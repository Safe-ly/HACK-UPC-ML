{
 "cells": [
  {
   "cell_type": "code",
   "execution_count": 78,
   "metadata": {},
   "outputs": [],
   "source": [
    "import numpy as np\n",
    "import pandas as pd\n",
    "import matplotlib.pyplot as plt\n",
    "import seaborn as sns\n",
    "from boruta import BorutaPy\n",
    "from tqdm import tqdm_notebook as tqdm\n",
    "import warnings\n",
    "warnings.filterwarnings('ignore')\n",
    "\n",
    "from sklearn.ensemble import RandomForestClassifier\n",
    "from sklearn.neighbors import KNeighborsRegressor\n",
    "from sklearn.neighbors import KNeighborsClassifier\n",
    "from sklearn.tree import DecisionTreeRegressor\n",
    "from sklearn.tree import DecisionTreeClassifier\n",
    "from sklearn.linear_model import LogisticRegression\n",
    "\n",
    "from sklearn.preprocessing import StandardScaler\n",
    "from sklearn.pipeline import Pipeline\n",
    "from sklearn.model_selection import GridSearchCV\n",
    "from sklearn.model_selection import StratifiedKFold\n",
    "\n",
    "from sklearn.metrics import balanced_accuracy_score, accuracy_score\n",
    "from sklearn.model_selection import cross_val_score\n",
    "from sklearn.metrics import classification_report, log_loss, confusion_matrix\n",
    "from sklearn.model_selection import train_test_split"
   ]
  },
  {
   "cell_type": "code",
   "execution_count": 89,
   "metadata": {},
   "outputs": [],
   "source": [
    "x_true_test_df = pd.read_csv(\"test_processed.csv\", index_col=0)\n",
    "train_df = pd.read_csv(\"train_processed.csv\", index_col=0)\n",
    "\n",
    "y_train_df = train_df[\"target\"]\n",
    "x_train_df = train_df.drop(\"target\", axis=1)\n",
    "# test_df = train_df.drop(\"accident_id\", axis=1)\n",
    "# train_df = train_df.drop(\"accident_id\", axis=1)"
   ]
  },
  {
   "cell_type": "code",
   "execution_count": 90,
   "metadata": {},
   "outputs": [],
   "source": [
    "x_train = x_train_df.values\n",
    "y_train = y_train_df.values\n",
    "x_true_test = x_true_test_df.values"
   ]
  },
  {
   "cell_type": "markdown",
   "metadata": {},
   "source": [
    "# Defines"
   ]
  },
  {
   "cell_type": "code",
   "execution_count": 81,
   "metadata": {},
   "outputs": [],
   "source": [
    "def standarize(df):\n",
    "    return (df - df.min(axis=0)) / (df.max(axis=0) - df.min(axis=0))\n",
    "\n",
    "\n",
    "def boruta_feature_selection(x, y):\n",
    "    rfc = RandomForestClassifier(n_estimators=200,\n",
    "                                 n_jobs=-1,\n",
    "                                 class_weight='balanced',\n",
    "                                 max_depth=7,\n",
    "                                 random_state=0)\n",
    "    boruta_selector = BorutaPy(rfc,\n",
    "                               n_estimators='auto',\n",
    "                               verbose=1,\n",
    "                               random_state=0)\n",
    "    boruta_selector.fit(x, y)\n",
    "    features = np.where(boruta_selector.support_ +\n",
    "                        boruta_selector.support_weak_ == True)[0]\n",
    "    print(f\"\\rBoruta\\nNumber of Selected Features: {features.shape[0]}\")\n",
    "    print(\"Selected Features: \")\n",
    "    print(*features.tolist())\n",
    "    return features.tolist()\n",
    "\n",
    "\n",
    "def calculate_r_2_for_feature(data, feature, regression_type):\n",
    "    new_data = data.drop(feature, axis=1)\n",
    "\n",
    "    X_train, \\\n",
    "    X_test,  \\\n",
    "    y_train, \\\n",
    "    y_test = train_test_split(\n",
    "        new_data,data[feature],test_size=0.25\n",
    "    )\n",
    "    if regression_type == \"KNR\":\n",
    "        regressor = KNeighborsRegressor()\n",
    "    elif regression_type == \"DTR\":\n",
    "        regressor = DecisionTreeRegressor()\n",
    "    else:\n",
    "        raise Exception(\"Wrong type of regression, use:\\n\",\n",
    "                        \"KNR for KNeighborsRegressor\\n\",\n",
    "                        \"DTR for DecisionTreeRegressor\")\n",
    "    regressor.fit(X_train, y_train)\n",
    "\n",
    "    # score returns the coefficient of determination R^2 of the prediction.\n",
    "    score = regressor.score(X_test, y_test)\n",
    "    return score\n",
    "\n",
    "\n",
    "def calculate_mean_r_2(data, feature, regression_type, iteration=10):\n",
    "    scores = []\n",
    "    for i in range(iteration):\n",
    "        scores.append(calculate_r_2_for_feature(data, feature,\n",
    "                                                regression_type))\n",
    "    scores = np.array(scores)\n",
    "    return scores.mean()\n",
    "\n",
    "\n",
    "def r_2_score_denoisser(X_train, regression_type=\"KNR\"):\n",
    "    x_df = pd.DataFrame(X_train)\n",
    "    avg_r2_feature_scores = []\n",
    "    for column in tqdm(x_df.columns):\n",
    "        score = calculate_mean_r_2(x_df.sample(n=30, random_state=1), column,\n",
    "                                   regression_type)\n",
    "        avg_r2_feature_scores.append(score)\n",
    "\n",
    "    features = [i for i, r2 in enumerate(avg_r2_feature_scores) if r2 > 0]\n",
    "    print(\"R\\u00b2 Score Denoisser\\nRegressor:\", end=\" \")\n",
    "    if regression_type == \"KNR\":\n",
    "        print(\"KNeighborsRegressor\")\n",
    "    elif regression_type == \"DTR\":\n",
    "        print(\"DecisionTreeRegressor\")\n",
    "    print(f\"Number of Selected Features: {len(features)}\")\n",
    "    print(\"Selected Feaures: \")\n",
    "    print(*features)\n",
    "    return features"
   ]
  },
  {
   "cell_type": "code",
   "execution_count": 82,
   "metadata": {},
   "outputs": [
    {
     "data": {
      "application/vnd.jupyter.widget-view+json": {
       "model_id": "784abce291c240ba85eb5f380e9a490b",
       "version_major": 2,
       "version_minor": 0
      },
      "text/plain": [
       "HBox(children=(IntProgress(value=0, max=103), HTML(value='')))"
      ]
     },
     "metadata": {},
     "output_type": "display_data"
    },
    {
     "name": "stdout",
     "output_type": "stream",
     "text": [
      "\n",
      "R² Score Denoisser\n",
      "Regressor: DecisionTreeRegressor\n",
      "Number of Selected Features: 75\n",
      "Selected Feaures: \n",
      "1 7 8 9 11 13 14 15 16 17 18 19 20 21 22 23 24 25 26 27 28 29 30 31 32 33 35 36 37 38 40 41 43 44 45 46 47 48 49 52 53 54 55 56 57 58 59 60 61 62 63 64 65 66 67 68 69 70 71 72 73 74 75 76 77 78 79 82 84 85 87 88 89 93 102\n"
     ]
    }
   ],
   "source": [
    "features_DTR = r_2_score_denoisser(x_train, regression_type=\"DTR\")"
   ]
  },
  {
   "cell_type": "code",
   "execution_count": 57,
   "metadata": {},
   "outputs": [
    {
     "data": {
      "application/vnd.jupyter.widget-view+json": {
       "model_id": "ed296c8d5110406f9ee876fc8f76ef04",
       "version_major": 2,
       "version_minor": 0
      },
      "text/plain": [
       "HBox(children=(IntProgress(value=0, max=103), HTML(value='')))"
      ]
     },
     "metadata": {},
     "output_type": "display_data"
    },
    {
     "name": "stdout",
     "output_type": "stream",
     "text": [
      "\n",
      "R² Score Denoisser\n",
      "Regressor: KNeighborsRegressor\n",
      "Number of Selected Features: 67\n",
      "Selected Feaures: \n",
      "1 8 11 13 14 15 17 18 19 20 21 22 23 24 25 26 27 28 29 30 31 32 33 34 35 36 37 38 40 41 43 44 45 46 47 49 51 53 54 55 56 57 58 59 60 61 62 64 65 66 67 68 69 70 71 72 73 74 75 76 77 78 79 87 89 98 102\n"
     ]
    }
   ],
   "source": [
    "features_KNR = r_2_score_denoisser(x_train, regression_type=\"KNR\")"
   ]
  },
  {
   "cell_type": "code",
   "execution_count": 58,
   "metadata": {},
   "outputs": [
    {
     "name": "stdout",
     "output_type": "stream",
     "text": [
      "Iteration: 1 / 100\n",
      "Iteration: 2 / 100\n",
      "Iteration: 3 / 100\n",
      "Iteration: 4 / 100\n",
      "Iteration: 5 / 100\n",
      "Iteration: 6 / 100\n",
      "Iteration: 7 / 100\n",
      "Iteration: 8 / 100\n",
      "Iteration: 9 / 100\n",
      "Iteration: 10 / 100\n",
      "Iteration: 11 / 100\n",
      "Iteration: 12 / 100\n",
      "Iteration: 13 / 100\n",
      "Iteration: 14 / 100\n",
      "Iteration: 15 / 100\n",
      "Iteration: 16 / 100\n",
      "Iteration: 17 / 100\n",
      "Iteration: 18 / 100\n",
      "Iteration: 19 / 100\n",
      "\n",
      "\n",
      "BorutaPy finished running.\n",
      "\n",
      "Iteration: \t20 / 100\n",
      "Confirmed: \t16\n",
      "Tentative: \t0\n",
      "Rejected: \t87\n",
      "Boruta\n",
      "Number of Selected Features: 16\n",
      "Selected Features: \n",
      "0 1 2 3 4 13 14 27 29 37 40 63 75 77 101 102\n"
     ]
    }
   ],
   "source": [
    "features_boruta = boruta_feature_selection(x_train, y_train)"
   ]
  },
  {
   "cell_type": "code",
   "execution_count": 83,
   "metadata": {},
   "outputs": [],
   "source": [
    "features = features_boruta"
   ]
  },
  {
   "cell_type": "code",
   "execution_count": 91,
   "metadata": {},
   "outputs": [],
   "source": [
    "x_train_sel = x_train_df.iloc[:, features]\n",
    "x_train, x_test, y_train, y_test = train_test_split(x_train_sel,y_df,test_size=0.25)"
   ]
  },
  {
   "cell_type": "code",
   "execution_count": 92,
   "metadata": {},
   "outputs": [
    {
     "data": {
      "image/png": "[encoded data removed]",
      "text/plain": [
       "<Figure size 1440x1440 with 16 Axes>"
      ]
     },
     "metadata": {
      "needs_background": "light"
     },
     "output_type": "display_data"
    }
   ],
   "source": [
    "fig = plt.figure(figsize=(20, 20))\n",
    "\n",
    "for i in range(len(x_train_sel.columns)):\n",
    "    fig.add_subplot(5, 4, i + 1)\n",
    "    plt.hist(x_train_sel.iloc[:, i])\n",
    "    plt.title(f\"Feature {x_train_sel.columns[i]}\")\n"
   ]
  },
  {
   "cell_type": "markdown",
   "metadata": {},
   "source": [
    "# Logistic Regression"
   ]
  },
  {
   "cell_type": "code",
   "execution_count": 93,
   "metadata": {},
   "outputs": [],
   "source": [
    "logregPipe = Pipeline([('scaler', StandardScaler()),\n",
    "                       ('logreg', LogisticRegression(random_state=123))])\n",
    "_ = logregPipe.fit(x_train, y_train)"
   ]
  },
  {
   "cell_type": "code",
   "execution_count": 94,
   "metadata": {},
   "outputs": [
    {
     "name": "stdout",
     "output_type": "stream",
     "text": [
      "accuracy on the tain set:  0.8287677206174479\n",
      "accuracy on the test set:  0.8277616279069767\n"
     ]
    }
   ],
   "source": [
    "print('accuracy on the tain set: ', logregPipe.score(x_train, y_train))\n",
    "print('accuracy on the test set: ', logregPipe.score(x_test, y_test))"
   ]
  },
  {
   "cell_type": "code",
   "execution_count": 100,
   "metadata": {},
   "outputs": [
    {
     "name": "stdout",
     "output_type": "stream",
     "text": [
      "           selected parameter\n",
      "logreg__C            0.031623\n"
     ]
    },
    {
     "data": {
      "image/png": "[encoded data removed]",
      "text/plain": [
       "<Figure size 864x432 with 1 Axes>"
      ]
     },
     "metadata": {
      "needs_background": "light"
     },
     "output_type": "display_data"
    }
   ],
   "source": [
    "param_space = np.logspace(-3, 0, 3)\n",
    "logregParam = {'logreg__C': param_space}\n",
    "logregGS = GridSearchCV(estimator=logregPipe, param_grid=logregParam, cv=5, scoring='f1')\n",
    "logregGS.fit(x_train, y_train)\n",
    "print(pd.DataFrame.from_dict(logregGS.best_params_,\n",
    "                           orient='index',\n",
    "                           columns=[\"selected parameter\"]))\n",
    "mean_test_score = logregGS.cv_results_[\"mean_test_score\"]\n",
    "std_test_score = logregGS.cv_results_[\"std_test_score\"]\n",
    "plt.figure(figsize=(12, 6))\n",
    "plt.errorbar(param_space, mean_test_score, std_test_score, fmt='ok', lw=3)\n",
    "plt.xscale('log')\n",
    "logregGS.estimator.steps[1][1].C = logregGS.best_params_[\"logreg__C\"]"
   ]
  },
  {
   "cell_type": "code",
   "execution_count": 101,
   "metadata": {},
   "outputs": [
    {
     "name": "stdout",
     "output_type": "stream",
     "text": [
      "accuracy on the test set:  0.8277325581395348\n",
      "accuracy on the train set:  0.8287677206174479\n"
     ]
    }
   ],
   "source": [
    "print(\"accuracy on the test set: \",\n",
    "      accuracy_score(y_test, logregGS.predict(x_test)))\n",
    "print(\"accuracy on the train set: \",\n",
    "      accuracy_score(y_train, logregGS.predict(x_train)))"
   ]
  },
  {
   "cell_type": "code",
   "execution_count": 102,
   "metadata": {},
   "outputs": [
    {
     "data": {
      "text/html": [
       "<div>\n",
       "<style scoped>\n",
       "    .dataframe tbody tr th:only-of-type {\n",
       "        vertical-align: middle;\n",
       "    }\n",
       "\n",
       "    .dataframe tbody tr th {\n",
       "        vertical-align: top;\n",
       "    }\n",
       "\n",
       "    .dataframe thead th {\n",
       "        text-align: right;\n",
       "    }\n",
       "</style>\n",
       "<table border=\"1\" class=\"dataframe\">\n",
       "  <thead>\n",
       "    <tr style=\"text-align: right;\">\n",
       "      <th></th>\n",
       "      <th>Predicted -1</th>\n",
       "      <th>Predicted 1</th>\n",
       "    </tr>\n",
       "  </thead>\n",
       "  <tbody>\n",
       "    <tr>\n",
       "      <th>Actual -1</th>\n",
       "      <td>28456</td>\n",
       "      <td>11</td>\n",
       "    </tr>\n",
       "    <tr>\n",
       "      <th>Actual 1</th>\n",
       "      <td>5915</td>\n",
       "      <td>18</td>\n",
       "    </tr>\n",
       "  </tbody>\n",
       "</table>\n",
       "</div>"
      ],
      "text/plain": [
       "           Predicted -1  Predicted 1\n",
       "Actual -1         28456           11\n",
       "Actual 1           5915           18"
      ]
     },
     "execution_count": 102,
     "metadata": {},
     "output_type": "execute_result"
    }
   ],
   "source": [
    "logregGS_confMatrix = pd.DataFrame(confusion_matrix(y_test, logregGS.predict(x_test)), columns=['Predicted -1', 'Predicted 1'],\\\n",
    "                                index=['Actual -1', 'Actual 1'])\n",
    "logregGS_confMatrix"
   ]
  },
  {
   "cell_type": "markdown",
   "metadata": {},
   "source": [
    "# KNeighborsClassifier"
   ]
  },
  {
   "cell_type": "code",
   "execution_count": 103,
   "metadata": {},
   "outputs": [],
   "source": [
    "knnPipe = Pipeline([\n",
    "    ('scaler', StandardScaler()),\n",
    "    ('knn', KNeighborsClassifier(n_jobs=-1)),\n",
    "])\n",
    "knnParam = {\n",
    "    'knn__n_neighbors': [1, 3, 5, 7, 8, 9, 10, 11],\n",
    "    'knn__weights': ['uniform', 'distance'],\n",
    "}\n",
    "_ = knnPipe.fit(x_train, y_train)"
   ]
  },
  {
   "cell_type": "code",
   "execution_count": 104,
   "metadata": {},
   "outputs": [
    {
     "name": "stdout",
     "output_type": "stream",
     "text": [
      "accuracy on the train set:  0.8460256397833312\n",
      "accuracy on the test set:  0.80375\n"
     ]
    }
   ],
   "source": [
    "print('accuracy on the train set: ', knnPipe.score(x_train, y_train))\n",
    "print('accuracy on the test set: ', knnPipe.score(x_test, y_test))"
   ]
  },
  {
   "cell_type": "code",
   "execution_count": null,
   "metadata": {},
   "outputs": [],
   "source": [
    "knnGS = GridSearchCV(knnPipe, param_grid=knnParam, n_jobs=-1, scoring='f1')\n",
    "_ = knnGS.fit(x_train, y_train)\n",
    "print(pd.DataFrame.from_dict(knnGS.best_params_,\n",
    "                           orient='index',\n",
    "                           columns=[\"selected parameter\"]))\n",
    "mean_test_score = knnGS.cv_results_[\"mean_test_score\"]\n",
    "std_test_score = knnGS.cv_results_[\"std_test_score\"]\n",
    "plt.figure(figsize=(10, 5))\n",
    "_ = plt.errorbar(np.arange(mean_test_score.shape[0]),\n",
    "                 mean_test_score,\n",
    "                 std_test_score,\n",
    "                 fmt='ok',\n",
    "                 lw=3)"
   ]
  },
  {
   "cell_type": "code",
   "execution_count": null,
   "metadata": {},
   "outputs": [],
   "source": [
    "print(\"accuracy on the train set: \", knnGS.score(x_train, y_train))\n",
    "print(\"accuracy on the test set:\", knnGS.score(x_test, y_test))"
   ]
  },
  {
   "cell_type": "code",
   "execution_count": null,
   "metadata": {},
   "outputs": [],
   "source": [
    "knnGS_confMatrix = pd.DataFrame(confusion_matrix(y_test, knnGS.predict(x_test)), \\\n",
    "                                columns=['Predicted -1', 'Predicted 1'], \\\n",
    "                                index=['Actual -1', 'Actual 1'])\n",
    "knnGS_confMatrix"
   ]
  },
  {
   "cell_type": "markdown",
   "metadata": {},
   "source": [
    "# DecisionTree Classifier"
   ]
  },
  {
   "cell_type": "code",
   "execution_count": null,
   "metadata": {},
   "outputs": [],
   "source": [
    "dectreePipe = Pipeline([('scaler', StandardScaler()),\n",
    "                        ('dectree', DecisionTreeClassifier(random_state=123))])\n",
    "dectreeParam = {\n",
    "    'dectree__criterion': ['gini', 'entropy'],\n",
    "    'dectree__class_weight': ['balanced', None]\n",
    "}\n",
    "_ = dectreePipe.fit(x_train, y_train)"
   ]
  },
  {
   "cell_type": "code",
   "execution_count": null,
   "metadata": {},
   "outputs": [],
   "source": [
    "print('accuracy on the train set: ', dectreePipe.score(x_train, y_train))\n",
    "print('accuracy on the test set: ', dectreePipe.score(x_test, y_test))"
   ]
  },
  {
   "cell_type": "code",
   "execution_count": null,
   "metadata": {},
   "outputs": [],
   "source": [
    "dectreeGS = GridSearchCV(dectreePipe, param_grid=dectreeParam, cv=5, scoring='f1')\n",
    "_ = dectreeGS.fit(x_train, y_train)\n",
    "print(pd.DataFrame.from_dict(dectreeGS.best_params_,\n",
    "                           orient='index',\n",
    "                           columns=[\"selected parameter\"]))\n",
    "mean_test_score = dectreeGS.cv_results_[\"mean_test_score\"]\n",
    "std_test_score = dectreeGS.cv_results_[\"std_test_score\"]\n",
    "plt.figure(figsize=(4, 2))\n",
    "plt.errorbar(np.arange(mean_test_score.shape[0]),\n",
    "             mean_test_score,\n",
    "             std_test_score,\n",
    "             fmt='ok')"
   ]
  },
  {
   "cell_type": "code",
   "execution_count": null,
   "metadata": {},
   "outputs": [],
   "source": [
    "print('accuracy on the train set: ', dectreeGS.score(x_train, y_train))\n",
    "print('accuracy on the test set: ', dectreeGS.score(x_test, y_test))"
   ]
  },
  {
   "cell_type": "code",
   "execution_count": null,
   "metadata": {},
   "outputs": [],
   "source": [
    "pd.DataFrame(confusion_matrix(y_test, dectreeGS_ypreds),\n",
    "             columns=['Predicted -1', 'Predicted 1'],\n",
    "             index=['Actual -1', 'Actual 1'])"
   ]
  },
  {
   "cell_type": "markdown",
   "metadata": {},
   "source": [
    "# Random Forest"
   ]
  },
  {
   "cell_type": "code",
   "execution_count": null,
   "metadata": {},
   "outputs": [],
   "source": [
    "randtreePipe = Pipeline([('scaler', StandardScaler()),\n",
    "                         ('randtree',\n",
    "                          RandomForestClassifier(random_state=123,\n",
    "                                                 n_estimators=100,\n",
    "                                                 bootstrap=False))])\n",
    "max_depth_param = range(5, 25)\n",
    "randtreeParam = {'randtree__max_depth': max_depth_param}\n",
    "_ = randtreePipe.fit(x_train, y_train)"
   ]
  },
  {
   "cell_type": "code",
   "execution_count": null,
   "metadata": {},
   "outputs": [],
   "source": [
    "print('accuracy on the train set: ', randtreePipe.score(x_train, y_train))\n",
    "print('accuracy on the test set: ', randtreePipe.score(x_test, y_test))"
   ]
  },
  {
   "cell_type": "code",
   "execution_count": null,
   "metadata": {},
   "outputs": [],
   "source": [
    "randtreeGS = GridSearchCV(randtreePipe, param_grid=randtreeParam, cv=5, scoring='f1')\n",
    "randtreeGS.fit(x_train, y_train)\n",
    "mean_test_score = randtreeGS.cv_results_[\"mean_test_score\"]\n",
    "\n",
    "std_test_score = randtreeGS.cv_results_[\"std_test_score\"]\n",
    "\n",
    "print(\n",
    "    pd.DataFrame.from_dict(randtreeGS.best_params_,\n",
    "                           orient='index',\n",
    "                           columns=[\"selected parameter\"]))\n",
    "\n",
    "pd.DataFrame(randtreeGS.cv_results_).sort_values(by='rank_test_score')[:5][[\n",
    "    'rank_test_score', 'param_randtree__max_depth', 'mean_test_score',\n",
    "    'std_test_score'\n",
    "]].T\n",
    "\n",
    "plt.figure(figsize=(6, 4))\n",
    "plt.errorbar(max_depth_param, mean_test_score, std_test_score, fmt='ok')"
   ]
  },
  {
   "cell_type": "code",
   "execution_count": null,
   "metadata": {},
   "outputs": [],
   "source": [
    "print(\"accuracy on the train set\", randtreeGS.score(x_train, y_train))\n",
    "print(\"accuracy on the test set\", randtreeGS.score(x_test, y_test))"
   ]
  },
  {
   "cell_type": "code",
   "execution_count": null,
   "metadata": {},
   "outputs": [],
   "source": [
    "randtreeGS_confMatrix = pd.DataFrame(confusion_matrix(y_test, randtreeGS_ypreds), columns=['Predicted -1', \\\n",
    "                                                                                               'Predicted 1'],\\\n",
    "                                   index=['Actual -1', 'Actual 1'])\n",
    "randtreeGS_confMatrix"
   ]
  },
  {
   "cell_type": "markdown",
   "metadata": {},
   "source": [
    "# Porównanie Dokładności Modeli"
   ]
  },
  {
   "cell_type": "code",
   "execution_count": null,
   "metadata": {},
   "outputs": [],
   "source": [
    "print(\"Logistic Regression\")\n",
    "print(\"accuracy on the train set: \", logregGS.score(x_train, y_train))\n",
    "print(\"accuracy on the test set: \", logregGS.score(x_test, y_test))\n",
    "\n",
    "print(\"\\nK-Neighbors Classifier\")\n",
    "print(\"accuracy on the train set: \", knnGS.score(x_train, y_train))\n",
    "print(\"accuracy on the test set:\", knnGS.score(x_test, y_test))\n",
    "\n",
    "print(\"\\nDecision Tree Classifier\")\n",
    "print('accuracy on the train set: ', dectreeGS.score(x_train, y_train))\n",
    "print('accuracy on the test set: ', dectreeGS.score(x_test, y_test))\n",
    "\n",
    "print(\"\\nRandomForestClassifier\")\n",
    "print(\"accuracy on the train set\", randtreeGS.score(x_train, y_train))\n",
    "print(\"accuracy on the test set\", randtreeGS.score(x_test, y_test))"
   ]
  },
  {
   "cell_type": "code",
   "execution_count": null,
   "metadata": {},
   "outputs": [],
   "source": [
    "print(\"Logistic Regression\")\n",
    "for features_name, features in {'features_KNR': features_KNR, 'features_DTR': features_DTR, 'features_boruta': features_boruta,}.items():\n",
    "    print(\"\\t\",features_name,len(features))\n",
    "    x_sel = x_df.iloc[:, features]\n",
    "    x_val_sel = x_df_val.iloc[:, features]\n",
    "    x_train, x_test, y_train, y_test = train_test_split(x_sel,y_df,test_size=0.25)\n",
    "    \n",
    "    param_space = np.logspace(-3, 0, 100)\n",
    "    logregParam = {'logreg__C': param_space}\n",
    "    logregPipe = Pipeline([('scaler', StandardScaler()),\n",
    "                       ('logreg', LogisticRegression(random_state=123))])\n",
    "    logregGS = GridSearchCV(estimator=logregPipe, param_grid=logregParam, cv=5, scoring='f1')\n",
    "    logregGS.fit(x_train, y_train)\n",
    "    \n",
    "    skf = StratifiedKFold(n_splits=5, shuffle=True)\n",
    "    skf.get_n_splits(x_train, y_train)\n",
    "    \n",
    "    cv_train = cross_val_score(logregGS, x_train, y_train, cv=skf,scoring=\"f1\")\n",
    "    cv_test = cross_val_score(logregGS, x_test, y_test, cv=skf,scoring=\"f1\")\n",
    "    \n",
    "    print(\"\\t\\tCV f1 on the train set: \", cv_train.mean().round(3)*100, \"%\")\n",
    "    print(\"\\t\\tCV f1 on the test set:\", cv_test.mean().round(3)*100, \"%\")\n",
    "    \n",
    "#     print(\"\\t\\taccuracy on the train set: \", logregGS.score(x_train, y_train).round(3))\n",
    "#     print(\"\\t\\taccuracy on the test set:\", logregGS.score(x_test, y_test).round(3))"
   ]
  },
  {
   "cell_type": "code",
   "execution_count": null,
   "metadata": {},
   "outputs": [],
   "source": [
    "print(\"\\nK-Neighbors Classifier\")\n",
    "for features_name, features in {'features_KNR': features_KNR, 'features_DTR': features_DTR, 'features_boruta': features_boruta,}.items():\n",
    "    print(\"\\t\",features_name,len(features))\n",
    "    x_sel = x_df.iloc[:, features]\n",
    "    x_val_sel = x_df_val.iloc[:, features]\n",
    "    x_train, x_test, y_train, y_test = train_test_split(x_sel,y_df,test_size=0.25)\n",
    "    knnPipe = Pipeline([\n",
    "        ('scaler', StandardScaler()),\n",
    "        ('knn', KNeighborsClassifier(n_jobs=-1)),\n",
    "    ])\n",
    "    knnParam = {\n",
    "        'knn__n_neighbors': [1, 3, 5, 7, 8, 9, 10, 11],\n",
    "        'knn__weights': ['uniform', 'distance'],\n",
    "    }\n",
    "    knnGS = GridSearchCV(knnPipe, param_grid=knnParam, n_jobs=-1,scoring=\"f1\")\n",
    "    _ = knnGS.fit(x_train, y_train)\n",
    "    \n",
    "    skf = StratifiedKFold(n_splits=5, shuffle=True)\n",
    "    skf.get_n_splits(x_train, y_train)\n",
    "    \n",
    "    cv_train = cross_val_score(knnGS, x_train, y_train, cv=skf,scoring=\"f1\")\n",
    "    cv_test = cross_val_score(knnGS, x_test, y_test, cv=skf,scoring=\"f1\")\n",
    "    \n",
    "    print(\"\\t\\tCV f1 on the train set: \", (cv_train.mean()*100).round(3), \"%\")\n",
    "    print(\"\\t\\tCV f1 on the test set:\", (cv_test.mean()*100).round(3), \"%\")\n",
    "    \n",
    "#     print(\"\\t\\taccuracy on the train set: \", knnGS.score(x_train, y_train))\n",
    "#     print(\"\\t\\taccuracy on the test set:\", knnGS.score(x_test, y_test))"
   ]
  },
  {
   "cell_type": "code",
   "execution_count": null,
   "metadata": {},
   "outputs": [],
   "source": [
    "print(\"\\nDecision Tree Clasifier\")\n",
    "for features_name, features in {'features_KNR': features_KNR, 'features_DTR': features_DTR, 'features_boruta': features_boruta,}.items():\n",
    "    print(\"\\t\",features_name,len(features))\n",
    "    x_sel = x_df.iloc[:, features]\n",
    "    x_val_sel = x_df_val.iloc[:, features]\n",
    "    x_train, x_test, y_train, y_test = train_test_split(x_sel,y_df,test_size=0.25)\n",
    "    \n",
    "    dectreePipe = Pipeline([('scaler', StandardScaler()),\n",
    "                        ('dectree', DecisionTreeClassifier(random_state=123))])\n",
    "    dectreeParam = {\n",
    "        'dectree__criterion': ['gini', 'entropy'],\n",
    "        'dectree__class_weight': ['balanced', None]\n",
    "    }\n",
    "    dectreeGS = GridSearchCV(dectreePipe, param_grid=dectreeParam, cv=5,scoring=\"f1\")\n",
    "    _ = dectreeGS.fit(x_train, y_train)\n",
    "\n",
    "    skf = StratifiedKFold(n_splits=5, shuffle=True)\n",
    "    skf.get_n_splits(x_train, y_train)\n",
    "    \n",
    "    cv_train = cross_val_score(dectreeGS, x_train, y_train, cv=skf,scoring=\"f1\")\n",
    "    cv_test = cross_val_score(dectreeGS, x_test, y_test, cv=skf,scoring=\"f1\")\n",
    "    \n",
    "    print(\"\\t\\tCV f1 on the train set: \", (cv_train.mean()*100).round(3), \"%\")\n",
    "    print(\"\\t\\tCV f1 on the test set:\", (cv_test.mean()*100).round(3), \"%\")\n",
    "    \n",
    "#     print(\"\\t\\taccuracy on the train set: \", dectreeGS.score(x_train, y_train))\n",
    "#     print(\"\\t\\taccuracy on the test set:\", dectreeGS.score(x_test, y_test))"
   ]
  },
  {
   "cell_type": "code",
   "execution_count": null,
   "metadata": {},
   "outputs": [],
   "source": [
    "print(\"\\nRandom Forest Classifier\")\n",
    "for features_name, features in {'features_KNR': features_KNR, 'features_DTR': features_DTR, 'features_boruta': features_boruta,}.items():\n",
    "    print(\"\\t\",features_name,len(features))\n",
    "    x_sel = x_df.iloc[:, features]\n",
    "    x_val_sel = x_df_val.iloc[:, features]\n",
    "    x_train, x_test, y_train, y_test = train_test_split(x_sel,y_df,test_size=0.25)\n",
    "    \n",
    "    randtreePipe = Pipeline([('scaler', StandardScaler()),\n",
    "                         ('randtree',\n",
    "                          RandomForestClassifier(random_state=123,\n",
    "                                                 n_estimators=100,\n",
    "                                                 bootstrap=True))])\n",
    "    max_depth_param = range(5, 25)\n",
    "    randtreeParam = {'randtree__max_depth': max_depth_param}\n",
    "    randtreeGS = GridSearchCV(randtreePipe, param_grid=randtreeParam, cv=5,scoring=\"f1\")\n",
    "    randtreeGS.fit(x_train, y_train)\n",
    "    \n",
    "    skf = StratifiedKFold(n_splits=5, shuffle=True)\n",
    "    skf.get_n_splits(x_train, y_train)\n",
    "    \n",
    "    cv_train = cross_val_score(randtreeGS, x_train, y_train, cv=skf,scoring=\"f1\")\n",
    "    cv_test = cross_val_score(randtreeGS, x_test, y_test, cv=skf,scoring=\"f1\")\n",
    "    \n",
    "    print(\"\\t\\tCV f1 on the train set: \", (cv_train.mean()*100).round(3), \"%\")\n",
    "    print(\"\\t\\tCV f1 on the test set:\", (cv_test.mean()*100).round(3), \"%\")\n",
    "    \n",
    "#     print(\"\\t\\taccuracy on the train set: \", randtreeGS.score(x_train, y_train))\n",
    "#     print(\"\\t\\taccuracy on the test set:\", randtreeGS.score(x_test, y_test))"
   ]
  },
  {
   "cell_type": "code",
   "execution_count": null,
   "metadata": {},
   "outputs": [],
   "source": [
    "# save_data = knnGS.predict_proba(x_val_sel)[:, 1]\n",
    "# np.savetxt(\"foo.csv\", save_data, delimiter=\"\", fmt='%f', header=\"\\r\\\"MATDOR\\\"\")"
   ]
  }
 ],
 "metadata": {
  "kernelspec": {
   "display_name": "Python 3",
   "language": "python",
   "name": "python3"
  },
  "language_info": {
   "codemirror_mode": {
    "name": "ipython",
    "version": 3
   },
   "file_extension": ".py",
   "mimetype": "text/x-python",
   "name": "python",
   "nbconvert_exporter": "python",
   "pygments_lexer": "ipython3",
   "version": "3.7.3"
  },
  "toc": {
   "base_numbering": 1,
   "nav_menu": {},
   "number_sections": true,
   "sideBar": true,
   "skip_h1_title": false,
   "title_cell": "Table of Contents",
   "title_sidebar": "Contents",
   "toc_cell": false,
   "toc_position": {},
   "toc_section_display": true,
   "toc_window_display": false
  }
 },
 "nbformat": 4,
 "nbformat_minor": 2
}
