{
 "cells": [
  {
   "cell_type": "code",
   "execution_count": 683,
   "metadata": {},
   "outputs": [],
   "source": [
    "import numpy as np\n",
    "import pandas as pd\n",
    "import matplotlib.pyplot as plt\n",
    "import seaborn as sns\n",
    "from boruta import BorutaPy\n",
    "from tqdm import tqdm_notebook as tqdm\n",
    "import warnings\n",
    "warnings.filterwarnings('ignore')\n",
    "\n",
    "from sklearn.ensemble import RandomForestClassifier\n",
    "from sklearn.neighbors import KNeighborsRegressor\n",
    "from sklearn.neighbors import KNeighborsClassifier\n",
    "from sklearn.tree import DecisionTreeRegressor\n",
    "from sklearn.tree import DecisionTreeClassifier\n",
    "from sklearn.linear_model import LogisticRegression\n",
    "\n",
    "from sklearn.preprocessing import StandardScaler\n",
    "from sklearn.pipeline import Pipeline\n",
    "from sklearn.model_selection import GridSearchCV\n",
    "from sklearn.model_selection import StratifiedKFold\n",
    "\n",
    "from sklearn.metrics import balanced_accuracy_score, accuracy_score\n",
    "from sklearn.model_selection import cross_val_score\n",
    "from sklearn.metrics import classification_report, log_loss, confusion_matrix\n",
    "from sklearn.model_selection import train_test_split"
   ]
  },
  {
   "cell_type": "code",
   "execution_count": 684,
   "metadata": {},
   "outputs": [],
   "source": [
    "X_true_test_df = pd.read_csv(\"test_processed.csv\", index_col=0)\n",
    "train_df = pd.read_csv(\"train_processed.csv\", index_col=0)\n",
    "\n",
    "Y_train_df = train_df[\"target\"]\n",
    "X_train_df = train_df.drop(\"target\", axis=1)\n",
    "# test_df = train_df.drop(\"accident_id\", axis=1)\n",
    "# train_df = train_df.drop(\"accident_id\", axis=1)"
   ]
  },
  {
   "cell_type": "code",
   "execution_count": 685,
   "metadata": {},
   "outputs": [],
   "source": [
    "X_true_test_df = X_true_test_df[:2000]\n",
    "Y_train_df = Y_train_df[:2000]\n",
    "X_train_df = X_train_df[:2000]"
   ]
  },
  {
   "cell_type": "code",
   "execution_count": 686,
   "metadata": {},
   "outputs": [],
   "source": [
    "X_train = X_train_df.values\n",
    "Y_train = Y_train_df.values\n",
    "X_true_test = X_true_test_df.values"
   ]
  },
  {
   "cell_type": "markdown",
   "metadata": {},
   "source": [
    "# Defines"
   ]
  },
  {
   "cell_type": "code",
   "execution_count": 687,
   "metadata": {},
   "outputs": [],
   "source": [
    "def standarize(df):\n",
    "    return (df - df.min(axis=0)) / (df.max(axis=0) - df.min(axis=0))\n",
    "\n",
    "\n",
    "def boruta_feature_selection(x, y):\n",
    "    rfc = RandomForestClassifier(n_estimators=200,\n",
    "                                 n_jobs=-1,\n",
    "                                 class_weight='balanced',\n",
    "                                 max_depth=7,\n",
    "                                 random_state=0)\n",
    "    boruta_selector = BorutaPy(rfc,\n",
    "                               n_estimators='auto',\n",
    "                               verbose=1,\n",
    "                               random_state=0)\n",
    "    boruta_selector.fit(x, y)\n",
    "    features = np.where(boruta_selector.support_ +\n",
    "                        boruta_selector.support_weak_ == True)[0]\n",
    "    print(f\"\\rBoruta\\nNumber of Selected Features: {features.shape[0]}\")\n",
    "    print(\"Selected Features: \")\n",
    "    print(*features.tolist(), sep=\", \")\n",
    "    return features.tolist()\n",
    "\n",
    "\n",
    "def calculate_r_2_for_feature(data, feature, regression_type):\n",
    "    new_data = data.drop(feature, axis=1)\n",
    "\n",
    "    X_train, \\\n",
    "    X_test,  \\\n",
    "    y_train, \\\n",
    "    y_test = train_test_split(\n",
    "        new_data,data[feature],test_size=0.25\n",
    "    )\n",
    "    if regression_type == \"KNR\":\n",
    "        regressor = KNeighborsRegressor()\n",
    "    elif regression_type == \"DTR\":\n",
    "        regressor = DecisionTreeRegressor()\n",
    "    else:\n",
    "        raise Exception(\"Wrong type of regression, use:\\n\",\n",
    "                        \"KNR for KNeighborsRegressor\\n\",\n",
    "                        \"DTR for DecisionTreeRegressor\")\n",
    "    regressor.fit(X_train, y_train)\n",
    "\n",
    "    # score returns the coefficient of determination R^2 of the prediction.\n",
    "    score = regressor.score(X_test, y_test)\n",
    "    return score\n",
    "\n",
    "\n",
    "def calculate_mean_r_2(data, feature, regression_type, iteration=10):\n",
    "    scores = []\n",
    "    for i in range(iteration):\n",
    "        scores.append(calculate_r_2_for_feature(data, feature,\n",
    "                                                regression_type))\n",
    "    scores = np.array(scores)\n",
    "    return scores.mean()\n",
    "\n",
    "\n",
    "def r_2_score_denoisser(X_train, regression_type=\"KNR\"):\n",
    "    x_df = pd.DataFrame(X_train)\n",
    "    avg_r2_feature_scores = []\n",
    "    for column in tqdm(x_df.columns):\n",
    "        score = calculate_mean_r_2(x_df.sample(n=30, random_state=1), column,\n",
    "                                   regression_type)\n",
    "        avg_r2_feature_scores.append(score)\n",
    "\n",
    "    features = [i for i, r2 in enumerate(avg_r2_feature_scores) if r2 > 0]\n",
    "    print(\"R\\u00b2 Score Denoisser\\nRegressor:\", end=\" \")\n",
    "    if regression_type == \"KNR\":\n",
    "        print(\"KNeighborsRegressor\")\n",
    "    elif regression_type == \"DTR\":\n",
    "        print(\"DecisionTreeRegressor\")\n",
    "    print(f\"Number of Selected Features: {len(features)}\")\n",
    "    print(\"Selected Feaures: \")\n",
    "    print(*features, sep=\", \")\n",
    "    return features"
   ]
  },
  {
   "cell_type": "code",
   "execution_count": 688,
   "metadata": {},
   "outputs": [
    {
     "data": {
      "application/vnd.jupyter.widget-view+json": {
       "model_id": "725a1e3c33aa4454bc862d935133ea53",
       "version_major": 2,
       "version_minor": 0
      },
      "text/plain": [
       "HBox(children=(IntProgress(value=0, max=103), HTML(value='')))"
      ]
     },
     "metadata": {},
     "output_type": "display_data"
    },
    {
     "name": "stdout",
     "output_type": "stream",
     "text": [
      "\n",
      "R² Score Denoisser\n",
      "Regressor: DecisionTreeRegressor\n",
      "Number of Selected Features: 79\n",
      "Selected Feaures: \n",
      "7, 8, 9, 11, 13, 15, 16, 17, 18, 19, 20, 21, 22, 23, 24, 25, 26, 27, 28, 29, 30, 31, 32, 33, 35, 36, 37, 38, 39, 40, 41, 43, 44, 45, 46, 48, 49, 53, 54, 55, 56, 57, 58, 59, 61, 62, 63, 64, 65, 66, 67, 68, 69, 70, 71, 72, 73, 74, 75, 76, 77, 78, 79, 80, 81, 82, 83, 84, 85, 86, 87, 90, 92, 93, 95, 98, 99, 101, 102\n"
     ]
    }
   ],
   "source": [
    "features_DTR = r_2_score_denoisser(X_train, regression_type=\"DTR\")"
   ]
  },
  {
   "cell_type": "code",
   "execution_count": 689,
   "metadata": {},
   "outputs": [
    {
     "data": {
      "application/vnd.jupyter.widget-view+json": {
       "model_id": "36a01b7c11bf4333ae7e6119566cdcce",
       "version_major": 2,
       "version_minor": 0
      },
      "text/plain": [
       "HBox(children=(IntProgress(value=0, max=103), HTML(value='')))"
      ]
     },
     "metadata": {},
     "output_type": "display_data"
    },
    {
     "name": "stdout",
     "output_type": "stream",
     "text": [
      "\n",
      "R² Score Denoisser\n",
      "Regressor: KNeighborsRegressor\n",
      "Number of Selected Features: 70\n",
      "Selected Feaures: \n",
      "8, 10, 11, 13, 14, 15, 16, 17, 18, 20, 21, 22, 23, 24, 25, 26, 27, 28, 29, 30, 31, 32, 33, 34, 35, 36, 37, 39, 40, 41, 43, 44, 45, 46, 47, 48, 51, 53, 54, 56, 57, 58, 59, 62, 63, 65, 66, 67, 68, 69, 70, 71, 72, 73, 74, 75, 76, 77, 78, 79, 80, 81, 83, 84, 86, 90, 92, 93, 101, 102\n"
     ]
    }
   ],
   "source": [
    "features_KNR = r_2_score_denoisser(X_train, regression_type=\"KNR\")"
   ]
  },
  {
   "cell_type": "code",
   "execution_count": 690,
   "metadata": {},
   "outputs": [
    {
     "name": "stdout",
     "output_type": "stream",
     "text": [
      "Iteration: 1 / 100\n",
      "Iteration: 2 / 100\n",
      "Iteration: 3 / 100\n",
      "Iteration: 4 / 100\n",
      "Iteration: 5 / 100\n",
      "Iteration: 6 / 100\n",
      "Iteration: 7 / 100\n",
      "Iteration: 8 / 100\n",
      "Iteration: 9 / 100\n",
      "Iteration: 10 / 100\n",
      "Iteration: 11 / 100\n",
      "Iteration: 12 / 100\n",
      "Iteration: 13 / 100\n",
      "Iteration: 14 / 100\n",
      "Iteration: 15 / 100\n",
      "Iteration: 16 / 100\n",
      "Iteration: 17 / 100\n",
      "Iteration: 18 / 100\n",
      "Iteration: 19 / 100\n",
      "Iteration: 20 / 100\n",
      "Iteration: 21 / 100\n",
      "Iteration: 22 / 100\n",
      "Iteration: 23 / 100\n",
      "Iteration: 24 / 100\n",
      "Iteration: 25 / 100\n",
      "Iteration: 26 / 100\n",
      "Iteration: 27 / 100\n",
      "Iteration: 28 / 100\n",
      "Iteration: 29 / 100\n",
      "Iteration: 30 / 100\n",
      "Iteration: 31 / 100\n",
      "Iteration: 32 / 100\n",
      "Iteration: 33 / 100\n",
      "Iteration: 34 / 100\n",
      "Iteration: 35 / 100\n",
      "Iteration: 36 / 100\n",
      "Iteration: 37 / 100\n",
      "Iteration: 38 / 100\n",
      "Iteration: 39 / 100\n",
      "Iteration: 40 / 100\n",
      "Iteration: 41 / 100\n",
      "Iteration: 42 / 100\n",
      "Iteration: 43 / 100\n",
      "Iteration: 44 / 100\n",
      "Iteration: 45 / 100\n",
      "Iteration: 46 / 100\n",
      "Iteration: 47 / 100\n",
      "Iteration: 48 / 100\n",
      "Iteration: 49 / 100\n",
      "Iteration: 50 / 100\n",
      "Iteration: 51 / 100\n",
      "Iteration: 52 / 100\n",
      "Iteration: 53 / 100\n",
      "Iteration: 54 / 100\n",
      "Iteration: 55 / 100\n",
      "Iteration: 56 / 100\n",
      "Iteration: 57 / 100\n",
      "Iteration: 58 / 100\n",
      "Iteration: 59 / 100\n",
      "Iteration: 60 / 100\n",
      "Iteration: 61 / 100\n",
      "Iteration: 62 / 100\n",
      "Iteration: 63 / 100\n",
      "Iteration: 64 / 100\n",
      "Iteration: 65 / 100\n",
      "Iteration: 66 / 100\n",
      "Iteration: 67 / 100\n",
      "Iteration: 68 / 100\n",
      "Iteration: 69 / 100\n",
      "Iteration: 70 / 100\n",
      "Iteration: 71 / 100\n",
      "Iteration: 72 / 100\n",
      "Iteration: 73 / 100\n",
      "Iteration: 74 / 100\n",
      "Iteration: 75 / 100\n",
      "Iteration: 76 / 100\n",
      "Iteration: 77 / 100\n",
      "Iteration: 78 / 100\n",
      "Iteration: 79 / 100\n",
      "Iteration: 80 / 100\n",
      "Iteration: 81 / 100\n",
      "Iteration: 82 / 100\n",
      "Iteration: 83 / 100\n",
      "Iteration: 84 / 100\n",
      "Iteration: 85 / 100\n",
      "Iteration: 86 / 100\n",
      "Iteration: 87 / 100\n",
      "Iteration: 88 / 100\n",
      "Iteration: 89 / 100\n",
      "Iteration: 90 / 100\n",
      "Iteration: 91 / 100\n",
      "Iteration: 92 / 100\n",
      "Iteration: 93 / 100\n",
      "Iteration: 94 / 100\n",
      "Iteration: 95 / 100\n",
      "Iteration: 96 / 100\n",
      "Iteration: 97 / 100\n",
      "Iteration: 98 / 100\n",
      "Iteration: 99 / 100\n",
      "\n",
      "\n",
      "BorutaPy finished running.\n",
      "\n",
      "Iteration: \t100 / 100\n",
      "Confirmed: \t0\n",
      "Tentative: \t1\n",
      "Rejected: \t102\n",
      "Boruta\n",
      "Number of Selected Features: 1\n",
      "Selected Features: \n",
      "2\n"
     ]
    }
   ],
   "source": [
    "features_boruta = boruta_feature_selection(X_train, Y_train)"
   ]
  },
  {
   "cell_type": "code",
   "execution_count": 666,
   "metadata": {},
   "outputs": [],
   "source": [
    "features = [\n",
    "    3, 7, 8, 11, 12, 13, 15, 18, 20, 21, 22, 23, 24, 25, 26, 27, 28, 29, 30,\n",
    "    31, 32, 33, 35, 36, 37, 38, 39, 40, 41, 43, 44, 45, 46, 47, 49, 51, 53, 54,\n",
    "    55, 56, 57, 58, 59, 62, 63, 64, 65, 66, 67, 68, 69, 70, 71, 72, 73, 74, 75,\n",
    "    76, 77, 78, 80, 81, 82, 83, 85, 93, 100, 101, 102\n",
    "]"
   ]
  },
  {
   "cell_type": "code",
   "execution_count": 667,
   "metadata": {},
   "outputs": [],
   "source": [
    "col_names = X_train_df.iloc[:, features].columns\n",
    "X_train_sel = X_train[:, features]\n",
    "x_train, x_test, y_train, y_test = train_test_split(X_train_sel,\n",
    "                                                    Y_train,\n",
    "                                                    test_size=0.25)"
   ]
  },
  {
   "cell_type": "code",
   "execution_count": null,
   "metadata": {},
   "outputs": [],
   "source": []
  },
  {
   "cell_type": "code",
   "execution_count": 551,
   "metadata": {},
   "outputs": [
    {
     "data": {
      "image/png": "[encoded data removed]",
      "text/plain": [
       "<Figure size 1440x1440 with 16 Axes>"
      ]
     },
     "metadata": {
      "needs_background": "light"
     },
     "output_type": "display_data"
    }
   ],
   "source": [
    "fig = plt.figure(figsize=(20, 20))\n",
    "\n",
    "for i in range(16):\n",
    "    fig.add_subplot(5, 4, i + 1)\n",
    "    plt.hist(x_train_sel[:, i])\n",
    "    plt.title(f\"Feature {col_names[i]}\")"
   ]
  },
  {
   "cell_type": "code",
   "execution_count": 552,
   "metadata": {},
   "outputs": [],
   "source": [
    "from sklearn.metrics import f1_score"
   ]
  },
  {
   "cell_type": "markdown",
   "metadata": {},
   "source": [
    "# Logistic Regression"
   ]
  },
  {
   "cell_type": "code",
   "execution_count": 553,
   "metadata": {},
   "outputs": [
    {
     "data": {
      "text/plain": [
       "0.13342608695652172"
      ]
     },
     "execution_count": 553,
     "metadata": {},
     "output_type": "execute_result"
    }
   ],
   "source": [
    "x_train.mean()"
   ]
  },
  {
   "cell_type": "code",
   "execution_count": 554,
   "metadata": {},
   "outputs": [],
   "source": [
    "logregPipe = Pipeline([('scaler', StandardScaler()),\n",
    "                       ('logreg', LogisticRegression(random_state=123))])\n",
    "_ = logregPipe.fit(x_train, y_train)"
   ]
  },
  {
   "cell_type": "code",
   "execution_count": 555,
   "metadata": {},
   "outputs": [
    {
     "name": "stdout",
     "output_type": "stream",
     "text": [
      "accuracy on the tain set:  0.8882666666666666\n",
      "accuracy on the test set:  0.88\n",
      "0.0\n",
      "0.0\n"
     ]
    }
   ],
   "source": [
    "print('accuracy on the tain set: ', logregPipe.score(x_train, y_train))\n",
    "print('accuracy on the test set: ', logregPipe.score(x_test, y_test))\n",
    "print(f1_score(y_train, logregPipe.predict(x_train)))\n",
    "print(f1_score(y_test, logregPipe.predict(x_test)))"
   ]
  },
  {
   "cell_type": "code",
   "execution_count": 556,
   "metadata": {},
   "outputs": [
    {
     "name": "stdout",
     "output_type": "stream",
     "text": [
      "           selected parameter\n",
      "logreg__C               0.001\n"
     ]
    },
    {
     "data": {
      "image/png": "[encoded data removed]",
      "text/plain": [
       "<Figure size 864x432 with 1 Axes>"
      ]
     },
     "metadata": {
      "needs_background": "light"
     },
     "output_type": "display_data"
    }
   ],
   "source": [
    "param_space = np.logspace(-3, 0, 100)\n",
    "logregParam = {'logreg__C': param_space}\n",
    "logregGS = GridSearchCV(estimator=logregPipe,\n",
    "                        param_grid=logregParam,\n",
    "                        cv=5,\n",
    "                        scoring='f1')\n",
    "logregGS.fit(x_train, y_train)\n",
    "print(\n",
    "    pd.DataFrame.from_dict(logregGS.best_params_,\n",
    "                           orient='index',\n",
    "                           columns=[\"selected parameter\"]))\n",
    "mean_test_score = logregGS.cv_results_[\"mean_test_score\"]\n",
    "std_test_score = logregGS.cv_results_[\"std_test_score\"]\n",
    "plt.figure(figsize=(12, 6))\n",
    "plt.errorbar(param_space, mean_test_score, std_test_score, fmt='ok', lw=3)\n",
    "plt.xscale('log')\n",
    "logregGS.estimator.steps[1][1].C = logregGS.best_params_[\"logreg__C\"]"
   ]
  },
  {
   "cell_type": "code",
   "execution_count": 557,
   "metadata": {},
   "outputs": [],
   "source": [
    "from sklearn.metrics import roc_curve, auc\n",
    "\n",
    "\n",
    "def roc_curve_plot(clf, x_train, y_train, x_test, y_test):\n",
    "    fpr = dict()\n",
    "    tpr = dict()\n",
    "    roc_auc = dict()\n",
    "\n",
    "    y_score = clf.fit(x_train, y_train).decision_function(x_test)\n",
    "\n",
    "    fpr, tpr, _ = roc_curve(y_test, y_score)\n",
    "    roc_auc = auc(fpr, tpr)\n",
    "\n",
    "    # Compute micro-average ROC curve and ROC area\n",
    "    plt.figure()\n",
    "    lw = 2\n",
    "    plt.plot(fpr,\n",
    "             tpr,\n",
    "             color='darkorange',\n",
    "             lw=lw,\n",
    "             label='ROC curve (area = %0.2f)' % roc_auc)\n",
    "    plt.plot([0, 1], [0, 1], color='navy', lw=lw, linestyle='--')\n",
    "    plt.xlim([0.0, 1.0])\n",
    "    plt.ylim([0.0, 1.05])\n",
    "    plt.xlabel('False Positive Rate')\n",
    "    plt.ylabel('True Positive Rate')\n",
    "    plt.title('Receiver operating characteristic example')\n",
    "    plt.legend(loc=\"lower right\")\n",
    "    plt.show()"
   ]
  },
  {
   "cell_type": "code",
   "execution_count": 558,
   "metadata": {},
   "outputs": [
    {
     "data": {
      "image/png": "[encoded data removed]",
      "text/plain": [
       "<Figure size 432x288 with 1 Axes>"
      ]
     },
     "metadata": {
      "needs_background": "light"
     },
     "output_type": "display_data"
    }
   ],
   "source": [
    "roc_curve_plot(logregGS, x_train, y_train, x_test, y_test)"
   ]
  },
  {
   "cell_type": "code",
   "execution_count": 559,
   "metadata": {},
   "outputs": [
    {
     "name": "stdout",
     "output_type": "stream",
     "text": [
      "accuracy on the test set:  0.88\n",
      "accuracy on the train set:  0.8882666666666666\n",
      "0.0\n",
      "0.0\n"
     ]
    }
   ],
   "source": [
    "print(\"accuracy on the test set: \",\n",
    "      accuracy_score(y_test, logregGS.predict(x_test)))\n",
    "print(\"accuracy on the train set: \",\n",
    "      accuracy_score(y_train, logregGS.predict(x_train)))\n",
    "print(f1_score(y_train, logregGS.predict(x_train)))\n",
    "print(f1_score(y_test, logregGS.predict(x_test)))"
   ]
  },
  {
   "cell_type": "code",
   "execution_count": 560,
   "metadata": {},
   "outputs": [
    {
     "data": {
      "text/html": [
       "<div>\n",
       "<style scoped>\n",
       "    .dataframe tbody tr th:only-of-type {\n",
       "        vertical-align: middle;\n",
       "    }\n",
       "\n",
       "    .dataframe tbody tr th {\n",
       "        vertical-align: top;\n",
       "    }\n",
       "\n",
       "    .dataframe thead th {\n",
       "        text-align: right;\n",
       "    }\n",
       "</style>\n",
       "<table border=\"1\" class=\"dataframe\">\n",
       "  <thead>\n",
       "    <tr style=\"text-align: right;\">\n",
       "      <th></th>\n",
       "      <th>Predicted 0</th>\n",
       "      <th>Predicted 1</th>\n",
       "    </tr>\n",
       "  </thead>\n",
       "  <tbody>\n",
       "    <tr>\n",
       "      <th>Actual 0</th>\n",
       "      <td>2200</td>\n",
       "      <td>0</td>\n",
       "    </tr>\n",
       "    <tr>\n",
       "      <th>Actual 1</th>\n",
       "      <td>300</td>\n",
       "      <td>0</td>\n",
       "    </tr>\n",
       "  </tbody>\n",
       "</table>\n",
       "</div>"
      ],
      "text/plain": [
       "          Predicted 0  Predicted 1\n",
       "Actual 0         2200            0\n",
       "Actual 1          300            0"
      ]
     },
     "execution_count": 560,
     "metadata": {},
     "output_type": "execute_result"
    }
   ],
   "source": [
    "logregGS_confMatrix = pd.DataFrame(confusion_matrix(y_test, logregGS.predict(x_test)), columns=['Predicted 0', 'Predicted 1'],\\\n",
    "                                index=['Actual 0', 'Actual 1'])\n",
    "logregGS_confMatrix"
   ]
  },
  {
   "cell_type": "markdown",
   "metadata": {},
   "source": [
    "# KNeighborsClassifier"
   ]
  },
  {
   "cell_type": "code",
   "execution_count": 561,
   "metadata": {},
   "outputs": [],
   "source": [
    "knnPipe = Pipeline([\n",
    "    ('scaler', StandardScaler()),\n",
    "    ('knn', KNeighborsClassifier(n_jobs=-1)),\n",
    "])\n",
    "knnParam = {\n",
    "    'knn__n_neighbors': range(1, 12),\n",
    "    'knn__weights': ['uniform', 'distance'],\n",
    "}\n",
    "_ = knnPipe.fit(x_train, y_train)"
   ]
  },
  {
   "cell_type": "code",
   "execution_count": 562,
   "metadata": {},
   "outputs": [
    {
     "name": "stdout",
     "output_type": "stream",
     "text": [
      "accuracy on the train set:  0.8841333333333333\n",
      "accuracy on the test set:  0.872\n",
      "0.06659505907626208\n",
      "0.01840490797546012\n"
     ]
    }
   ],
   "source": [
    "print('accuracy on the train set: ', knnPipe.score(x_train, y_train))\n",
    "print('accuracy on the test set: ', knnPipe.score(x_test, y_test))\n",
    "print(f1_score(y_train, knnPipe.predict(x_train)))\n",
    "print(f1_score(y_test, knnPipe.predict(x_test)))"
   ]
  },
  {
   "cell_type": "code",
   "execution_count": 563,
   "metadata": {},
   "outputs": [
    {
     "name": "stdout",
     "output_type": "stream",
     "text": [
      "                 selected parameter\n",
      "knn__n_neighbors                  1\n",
      "knn__weights                uniform\n"
     ]
    },
    {
     "data": {
      "image/png": "[encoded data removed]",
      "text/plain": [
       "<Figure size 720x360 with 1 Axes>"
      ]
     },
     "metadata": {
      "needs_background": "light"
     },
     "output_type": "display_data"
    }
   ],
   "source": [
    "knnGS = GridSearchCV(knnPipe, param_grid=knnParam, n_jobs=-1, scoring='f1')\n",
    "_ = knnGS.fit(x_train, y_train)\n",
    "print(\n",
    "    pd.DataFrame.from_dict(knnGS.best_params_,\n",
    "                           orient='index',\n",
    "                           columns=[\"selected parameter\"]))\n",
    "mean_test_score = knnGS.cv_results_[\"mean_test_score\"]\n",
    "std_test_score = knnGS.cv_results_[\"std_test_score\"]\n",
    "plt.figure(figsize=(10, 5))\n",
    "_ = plt.errorbar(np.arange(mean_test_score.shape[0]),\n",
    "                 mean_test_score,\n",
    "                 std_test_score,\n",
    "                 fmt='ok',\n",
    "                 lw=3)"
   ]
  },
  {
   "cell_type": "code",
   "execution_count": 564,
   "metadata": {},
   "outputs": [
    {
     "name": "stdout",
     "output_type": "stream",
     "text": [
      "accuracy on the train set:  0.41504539559014264\n",
      "accuracy on the test set: 0.14471243042671614\n",
      "0.41504539559014264\n",
      "0.14471243042671614\n"
     ]
    }
   ],
   "source": [
    "print(\"accuracy on the train set: \", knnGS.score(x_train, y_train))\n",
    "print(\"accuracy on the test set:\", knnGS.score(x_test, y_test))\n",
    "print(f1_score(y_train, knnGS.predict(x_train)))\n",
    "print(f1_score(y_test, knnGS.predict(x_test)))"
   ]
  },
  {
   "cell_type": "code",
   "execution_count": 565,
   "metadata": {},
   "outputs": [
    {
     "data": {
      "text/html": [
       "<div>\n",
       "<style scoped>\n",
       "    .dataframe tbody tr th:only-of-type {\n",
       "        vertical-align: middle;\n",
       "    }\n",
       "\n",
       "    .dataframe tbody tr th {\n",
       "        vertical-align: top;\n",
       "    }\n",
       "\n",
       "    .dataframe thead th {\n",
       "        text-align: right;\n",
       "    }\n",
       "</style>\n",
       "<table border=\"1\" class=\"dataframe\">\n",
       "  <thead>\n",
       "    <tr style=\"text-align: right;\">\n",
       "      <th></th>\n",
       "      <th>Predicted -1</th>\n",
       "      <th>Predicted 1</th>\n",
       "    </tr>\n",
       "  </thead>\n",
       "  <tbody>\n",
       "    <tr>\n",
       "      <th>Actual -1</th>\n",
       "      <td>2000</td>\n",
       "      <td>200</td>\n",
       "    </tr>\n",
       "    <tr>\n",
       "      <th>Actual 1</th>\n",
       "      <td>261</td>\n",
       "      <td>39</td>\n",
       "    </tr>\n",
       "  </tbody>\n",
       "</table>\n",
       "</div>"
      ],
      "text/plain": [
       "           Predicted -1  Predicted 1\n",
       "Actual -1          2000          200\n",
       "Actual 1            261           39"
      ]
     },
     "execution_count": 565,
     "metadata": {},
     "output_type": "execute_result"
    }
   ],
   "source": [
    "knnGS_confMatrix = pd.DataFrame(confusion_matrix(y_test, knnGS.predict(x_test)), \\\n",
    "                                columns=['Predicted 0', 'Predicted 1'], \\\n",
    "                                index=['Actual 0', 'Actual 1'])\n",
    "knnGS_confMatrix"
   ]
  },
  {
   "cell_type": "markdown",
   "metadata": {},
   "source": [
    "# DecisionTree Classifier"
   ]
  },
  {
   "cell_type": "code",
   "execution_count": 670,
   "metadata": {},
   "outputs": [],
   "source": [
    "dectreePipe = Pipeline([('scaler', StandardScaler()),\n",
    "                        ('dectree', DecisionTreeClassifier(random_state=123))])\n",
    "dectreeParam = {\n",
    "    'dectree__criterion': ['entropy'],\n",
    "    'dectree__class_weight': ['balanced'],\n",
    "    'dectree__max_depth': [5],\n",
    "}\n",
    "# _ = dectreePipe.fit(x_train, y_train)"
   ]
  },
  {
   "cell_type": "code",
   "execution_count": 624,
   "metadata": {},
   "outputs": [],
   "source": [
    "# print('accuracy on the train set: ', dectreePipe.score(x_train, y_train))\n",
    "# print('accuracy on the test set: ', dectreePipe.score(x_test, y_test))\n",
    "# print(f1_score(y_train, dectreePipe.predict(x_train)))\n",
    "# print(f1_score(y_test, dectreePipe.predict(x_test)))"
   ]
  },
  {
   "cell_type": "code",
   "execution_count": 671,
   "metadata": {},
   "outputs": [
    {
     "name": "stdout",
     "output_type": "stream",
     "text": [
      "                      selected parameter\n",
      "dectree__class_weight           balanced\n",
      "dectree__criterion               entropy\n",
      "dectree__max_depth                     5\n"
     ]
    },
    {
     "data": {
      "text/plain": [
       "<ErrorbarContainer object of 3 artists>"
      ]
     },
     "execution_count": 671,
     "metadata": {},
     "output_type": "execute_result"
    },
    {
     "data": {
      "image/png": "[encoded data removed]",
      "text/plain": [
       "<Figure size 288x144 with 1 Axes>"
      ]
     },
     "metadata": {
      "needs_background": "light"
     },
     "output_type": "display_data"
    }
   ],
   "source": [
    "dectreeGS = GridSearchCV(dectreePipe,\n",
    "                         param_grid=dectreeParam,\n",
    "                         cv=5,\n",
    "                         scoring='f1')\n",
    "_ = dectreeGS.fit(x_train, y_train)\n",
    "print(\n",
    "    pd.DataFrame.from_dict(dectreeGS.best_params_,\n",
    "                           orient='index',\n",
    "                           columns=[\"selected parameter\"]))\n",
    "mean_test_score = dectreeGS.cv_results_[\"mean_test_score\"]\n",
    "std_test_score = dectreeGS.cv_results_[\"std_test_score\"]\n",
    "plt.figure(figsize=(4, 2))\n",
    "plt.errorbar(np.arange(mean_test_score.shape[0]),\n",
    "             mean_test_score,\n",
    "             std_test_score,\n",
    "             fmt='ok')"
   ]
  },
  {
   "cell_type": "code",
   "execution_count": 672,
   "metadata": {},
   "outputs": [
    {
     "name": "stdout",
     "output_type": "stream",
     "text": [
      "f1_score on the train set:  0.29916885849552866\n",
      "f1_score on the test set:  0.29839260224663317\n"
     ]
    }
   ],
   "source": [
    "print('f1_score on the train set: ', dectreeGS.score(x_train, y_train))\n",
    "print('f1_score on the test set: ', dectreeGS.score(x_test, y_test))"
   ]
  },
  {
   "cell_type": "code",
   "execution_count": 673,
   "metadata": {},
   "outputs": [
    {
     "data": {
      "text/html": [
       "<div>\n",
       "<style scoped>\n",
       "    .dataframe tbody tr th:only-of-type {\n",
       "        vertical-align: middle;\n",
       "    }\n",
       "\n",
       "    .dataframe tbody tr th {\n",
       "        vertical-align: top;\n",
       "    }\n",
       "\n",
       "    .dataframe thead th {\n",
       "        text-align: right;\n",
       "    }\n",
       "</style>\n",
       "<table border=\"1\" class=\"dataframe\">\n",
       "  <thead>\n",
       "    <tr style=\"text-align: right;\">\n",
       "      <th></th>\n",
       "      <th>Predicted -1</th>\n",
       "      <th>Predicted 1</th>\n",
       "    </tr>\n",
       "  </thead>\n",
       "  <tbody>\n",
       "    <tr>\n",
       "      <th>Actual 0</th>\n",
       "      <td>20691</td>\n",
       "      <td>7717</td>\n",
       "    </tr>\n",
       "    <tr>\n",
       "      <th>Actual 1</th>\n",
       "      <td>3588</td>\n",
       "      <td>2404</td>\n",
       "    </tr>\n",
       "  </tbody>\n",
       "</table>\n",
       "</div>"
      ],
      "text/plain": [
       "          Predicted -1  Predicted 1\n",
       "Actual 0         20691         7717\n",
       "Actual 1          3588         2404"
      ]
     },
     "execution_count": 673,
     "metadata": {},
     "output_type": "execute_result"
    }
   ],
   "source": [
    "pd.DataFrame(confusion_matrix(y_test, dectreeGS.predict(x_test)),\n",
    "             columns=['Predicted -1', 'Predicted 1'],\n",
    "             index=['Actual 0', 'Actual 1'])"
   ]
  },
  {
   "cell_type": "markdown",
   "metadata": {},
   "source": [
    "# Random Forest"
   ]
  },
  {
   "cell_type": "code",
   "execution_count": 677,
   "metadata": {
    "code_folding": []
   },
   "outputs": [],
   "source": [
    "class_weight = dict({0.0: 9, 1.0: 1})\n",
    "randtreePipe = Pipeline([('scaler', StandardScaler()),\n",
    "                         ('randtree',\n",
    "                          RandomForestClassifier(random_state=123,\n",
    "                                                 n_estimators=100,\n",
    "                                                 bootstrap=True,\n",
    "                                                 class_weight=class_weight))])\n",
    "\n",
    "randtreeParam = {\n",
    "    'randtree__max_depth': [15],\n",
    "}\n",
    "\n",
    "# _ = randtreePipe.fit(x_train, y_train)"
   ]
  },
  {
   "cell_type": "code",
   "execution_count": 678,
   "metadata": {},
   "outputs": [],
   "source": [
    "# print('accuracy on the train set: ', randtreePipe.score(x_train, y_train))\n",
    "# print('accuracy on the test set: ', randtreePipe.score(x_test, y_test))\n",
    "# print(f1_score(y_train, randtreePipe.predict(x_train)))\n",
    "# print(f1_score(y_test, randtreePipe.predict(x_test)))"
   ]
  },
  {
   "cell_type": "code",
   "execution_count": 679,
   "metadata": {
    "scrolled": true
   },
   "outputs": [
    {
     "name": "stdout",
     "output_type": "stream",
     "text": [
      "                     selected parameter\n",
      "randtree__max_depth                  15\n"
     ]
    },
    {
     "data": {
      "text/plain": [
       "<ErrorbarContainer object of 3 artists>"
      ]
     },
     "execution_count": 679,
     "metadata": {},
     "output_type": "execute_result"
    },
    {
     "data": {
      "image/png": "[encoded data removed]",
      "text/plain": [
       "<Figure size 504x360 with 1 Axes>"
      ]
     },
     "metadata": {
      "needs_background": "light"
     },
     "output_type": "display_data"
    }
   ],
   "source": [
    "randtreeGS = GridSearchCV(randtreePipe,\n",
    "                          param_grid=randtreeParam,\n",
    "                          cv=5,\n",
    "                          scoring='f1')\n",
    "randtreeGS.fit(x_train, y_train)\n",
    "mean_test_score = randtreeGS.cv_results_[\"mean_test_score\"]\n",
    "\n",
    "std_test_score = randtreeGS.cv_results_[\"std_test_score\"]\n",
    "\n",
    "print(\n",
    "    pd.DataFrame.from_dict(randtreeGS.best_params_,\n",
    "                           orient='index',\n",
    "                           columns=[\"selected parameter\"]))\n",
    "\n",
    "pd.DataFrame(randtreeGS.cv_results_).sort_values(by='rank_test_score')[:5][[\n",
    "    'rank_test_score', 'param_randtree__max_depth', 'mean_test_score',\n",
    "    'std_test_score'\n",
    "]].T\n",
    "\n",
    "plt.figure(figsize=(7, 5))\n",
    "plt.errorbar(np.arange(mean_test_score.shape[0]),\n",
    "             mean_test_score,\n",
    "             std_test_score,\n",
    "             fmt='ok')"
   ]
  },
  {
   "cell_type": "code",
   "execution_count": 680,
   "metadata": {},
   "outputs": [
    {
     "name": "stdout",
     "output_type": "stream",
     "text": [
      "f1_score on the train set 0.006114822783376741\n",
      "f1_score on the test set 0.0\n"
     ]
    }
   ],
   "source": [
    "print(\"f1_score on the train set\", randtreeGS.score(x_train, y_train))\n",
    "print(\"f1_score on the test set\", randtreeGS.score(x_test, y_test))"
   ]
  },
  {
   "cell_type": "code",
   "execution_count": 681,
   "metadata": {},
   "outputs": [
    {
     "data": {
      "text/html": [
       "<div>\n",
       "<style scoped>\n",
       "    .dataframe tbody tr th:only-of-type {\n",
       "        vertical-align: middle;\n",
       "    }\n",
       "\n",
       "    .dataframe tbody tr th {\n",
       "        vertical-align: top;\n",
       "    }\n",
       "\n",
       "    .dataframe thead th {\n",
       "        text-align: right;\n",
       "    }\n",
       "</style>\n",
       "<table border=\"1\" class=\"dataframe\">\n",
       "  <thead>\n",
       "    <tr style=\"text-align: right;\">\n",
       "      <th></th>\n",
       "      <th>Predicted 0</th>\n",
       "      <th>Predicted 1</th>\n",
       "    </tr>\n",
       "  </thead>\n",
       "  <tbody>\n",
       "    <tr>\n",
       "      <th>Actual 0</th>\n",
       "      <td>28407</td>\n",
       "      <td>1</td>\n",
       "    </tr>\n",
       "    <tr>\n",
       "      <th>Actual 1</th>\n",
       "      <td>5992</td>\n",
       "      <td>0</td>\n",
       "    </tr>\n",
       "  </tbody>\n",
       "</table>\n",
       "</div>"
      ],
      "text/plain": [
       "          Predicted 0  Predicted 1\n",
       "Actual 0        28407            1\n",
       "Actual 1         5992            0"
      ]
     },
     "execution_count": 681,
     "metadata": {},
     "output_type": "execute_result"
    }
   ],
   "source": [
    "randtreeGS_confMatrix = pd.DataFrame(confusion_matrix(y_test, randtreeGS.predict(x_test)), columns=['Predicted 0', \\\n",
    "                                                                                               'Predicted 1'],\\\n",
    "                                   index=['Actual 0', 'Actual 1'])\n",
    "randtreeGS_confMatrix"
   ]
  },
  {
   "cell_type": "markdown",
   "metadata": {},
   "source": [
    "# XGBoost"
   ]
  },
  {
   "cell_type": "code",
   "execution_count": 628,
   "metadata": {},
   "outputs": [
    {
     "ename": "TypeError",
     "evalue": "__init__() got an unexpected keyword argument 'scoring'",
     "output_type": "error",
     "traceback": [
      "\u001b[1;31m---------------------------------------------------------------------------\u001b[0m",
      "\u001b[1;31mTypeError\u001b[0m                                 Traceback (most recent call last)",
      "\u001b[1;32m<ipython-input-628-800a1c009e32>\u001b[0m in \u001b[0;36m<module>\u001b[1;34m\u001b[0m\n\u001b[1;32m----> 1\u001b[1;33m \u001b[0mdtc\u001b[0m \u001b[1;33m=\u001b[0m \u001b[0mDecisionTreeClassifier\u001b[0m\u001b[1;33m(\u001b[0m\u001b[0mrandom_state\u001b[0m\u001b[1;33m=\u001b[0m\u001b[1;36m123\u001b[0m\u001b[1;33m,\u001b[0m \u001b[0mcriterion\u001b[0m \u001b[1;33m=\u001b[0m \u001b[1;34m'entropy'\u001b[0m\u001b[1;33m,\u001b[0m \u001b[0mclass_weight\u001b[0m \u001b[1;33m=\u001b[0m \u001b[1;34m'balanced'\u001b[0m\u001b[1;33m,\u001b[0m \u001b[0mmax_depth\u001b[0m\u001b[1;33m=\u001b[0m\u001b[1;36m4\u001b[0m\u001b[1;33m,\u001b[0m \u001b[0mscoring\u001b[0m\u001b[1;33m=\u001b[0m\u001b[1;34m'f1'\u001b[0m\u001b[1;33m)\u001b[0m\u001b[1;33m\u001b[0m\u001b[1;33m\u001b[0m\u001b[0m\n\u001b[0m\u001b[0;32m      2\u001b[0m \u001b[0mdtc\u001b[0m\u001b[1;33m.\u001b[0m\u001b[0mfit\u001b[0m\u001b[1;33m(\u001b[0m\u001b[0mx_train\u001b[0m\u001b[1;33m,\u001b[0m \u001b[0my_train\u001b[0m\u001b[1;33m)\u001b[0m\u001b[1;33m\u001b[0m\u001b[1;33m\u001b[0m\u001b[0m\n\u001b[0;32m      3\u001b[0m \u001b[0mdtc\u001b[0m\u001b[1;33m.\u001b[0m\u001b[0mscore\u001b[0m\u001b[1;33m(\u001b[0m\u001b[0mx_train\u001b[0m\u001b[1;33m,\u001b[0m \u001b[0my_train\u001b[0m\u001b[1;33m)\u001b[0m\u001b[1;33m,\u001b[0m \u001b[0mdtc\u001b[0m\u001b[1;33m.\u001b[0m\u001b[0mscore\u001b[0m\u001b[1;33m(\u001b[0m\u001b[0mx_test\u001b[0m\u001b[1;33m,\u001b[0m \u001b[0my_test\u001b[0m\u001b[1;33m)\u001b[0m\u001b[1;33m,\u001b[0m \u001b[0mdtc\u001b[0m\u001b[1;33m.\u001b[0m\u001b[0mget_params\u001b[0m\u001b[1;33m(\u001b[0m\u001b[1;33m)\u001b[0m\u001b[1;33m[\u001b[0m\u001b[1;34m\"scoring\"\u001b[0m\u001b[1;33m]\u001b[0m\u001b[1;33m\u001b[0m\u001b[1;33m\u001b[0m\u001b[0m\n",
      "\u001b[1;31mTypeError\u001b[0m: __init__() got an unexpected keyword argument 'scoring'"
     ]
    }
   ],
   "source": [
    "dtc = DecisionTreeClassifier(random_state=123, criterion = 'entropy', class_weight = 'balanced', max_depth=4, scoring='f1')\n",
    "dtc.fit(x_train, y_train)\n",
    "dtc.score(x_train, y_train), dtc.score(x_test, y_test), dtc.get_params()[\"scoring\"]"
   ]
  },
  {
   "cell_type": "code",
   "execution_count": 668,
   "metadata": {},
   "outputs": [
    {
     "data": {
      "text/plain": [
       "(103199,)"
      ]
     },
     "execution_count": 668,
     "metadata": {},
     "output_type": "execute_result"
    }
   ],
   "source": [
    "y_train.shape"
   ]
  },
  {
   "cell_type": "code",
   "execution_count": 669,
   "metadata": {},
   "outputs": [
    {
     "data": {
      "image/png": "[encoded data removed]",
      "text/plain": [
       "<Figure size 432x288 with 1 Axes>"
      ]
     },
     "metadata": {
      "needs_background": "light"
     },
     "output_type": "display_data"
    },
    {
     "data": {
      "image/png": "[encoded data removed]",
      "text/plain": [
       "<Figure size 432x288 with 1 Axes>"
      ]
     },
     "metadata": {
      "needs_background": "light"
     },
     "output_type": "display_data"
    },
    {
     "data": {
      "image/png": "[encoded data removed]",
      "text/plain": [
       "<Figure size 432x288 with 1 Axes>"
      ]
     },
     "metadata": {
      "needs_background": "light"
     },
     "output_type": "display_data"
    },
    {
     "data": {
      "image/png": "[encoded data removed]",
      "text/plain": [
       "<Figure size 432x288 with 1 Axes>"
      ]
     },
     "metadata": {
      "needs_background": "light"
     },
     "output_type": "display_data"
    }
   ],
   "source": [
    "from xgboost import XGBClassifier\n",
    "xgb = XGBClassifier(learning_rate=1.5)\n",
    "eval_set = [(x_train, y_train), (x_test, y_test)]\n",
    "xgb.fit(x_train, y_train, eval_metric=[\"error\", \"logloss\", \"auc\", \"rmse\"], eval_set=eval_set, verbose=False)\n",
    "pd.DataFrame(confusion_matrix(y_test, xgb.predict(x_test)),\n",
    "             columns=['Predicted 0', 'Predicted 1'],\n",
    "             index=['Actual 0', 'Actual 1'])\n",
    "\n",
    "results = xgb.evals_result()\n",
    "epochs = len(results['validation_0']['error'])\n",
    "x_axis = range(0, epochs)\n",
    "# plot log loss\n",
    "fig, ax = plt.subplots()\n",
    "ax.plot(x_axis, results['validation_0']['logloss'], label='Train')\n",
    "ax.plot(x_axis, results['validation_1']['logloss'], label='Test')\n",
    "ax.legend()\n",
    "plt.ylabel('Log Loss')\n",
    "plt.title('XGBoost Log Loss')\n",
    "plt.show()\n",
    "# plot classification error\n",
    "fig, ax = plt.subplots()\n",
    "ax.plot(x_axis, results['validation_0']['error'], label='Train')\n",
    "ax.plot(x_axis, results['validation_1']['error'], label='Test')\n",
    "ax.legend()\n",
    "plt.ylabel('Classification Error')\n",
    "plt.title('XGBoost Classification Error')\n",
    "plt.show()\n",
    "# plot classification error\n",
    "fig, ax = plt.subplots()\n",
    "ax.plot(x_axis, results['validation_0']['auc'], label='Train')\n",
    "ax.plot(x_axis, results['validation_1']['auc'], label='Test')\n",
    "ax.legend()\n",
    "plt.ylabel('auc')\n",
    "plt.title('XGBoost auc')\n",
    "plt.show()\n",
    "# plot classification error\n",
    "fig, ax = plt.subplots()\n",
    "ax.plot(x_axis, results['validation_0']['error'], label='Train')\n",
    "ax.plot(x_axis, results['validation_1']['error'], label='Test')\n",
    "ax.legend()\n",
    "plt.ylabel('rmse')\n",
    "plt.title('XGBoost rmse')\n",
    "plt.show()"
   ]
  },
  {
   "cell_type": "code",
   "execution_count": 675,
   "metadata": {},
   "outputs": [
    {
     "data": {
      "text/html": [
       "<div>\n",
       "<style scoped>\n",
       "    .dataframe tbody tr th:only-of-type {\n",
       "        vertical-align: middle;\n",
       "    }\n",
       "\n",
       "    .dataframe tbody tr th {\n",
       "        vertical-align: top;\n",
       "    }\n",
       "\n",
       "    .dataframe thead th {\n",
       "        text-align: right;\n",
       "    }\n",
       "</style>\n",
       "<table border=\"1\" class=\"dataframe\">\n",
       "  <thead>\n",
       "    <tr style=\"text-align: right;\">\n",
       "      <th></th>\n",
       "      <th>Predicted 0</th>\n",
       "      <th>Predicted 1</th>\n",
       "    </tr>\n",
       "  </thead>\n",
       "  <tbody>\n",
       "    <tr>\n",
       "      <th>Actual 0</th>\n",
       "      <td>28247</td>\n",
       "      <td>161</td>\n",
       "    </tr>\n",
       "    <tr>\n",
       "      <th>Actual 1</th>\n",
       "      <td>5904</td>\n",
       "      <td>88</td>\n",
       "    </tr>\n",
       "  </tbody>\n",
       "</table>\n",
       "</div>"
      ],
      "text/plain": [
       "          Predicted 0  Predicted 1\n",
       "Actual 0        28247          161\n",
       "Actual 1         5904           88"
      ]
     },
     "execution_count": 675,
     "metadata": {},
     "output_type": "execute_result"
    }
   ],
   "source": [
    "confMatrix = pd.DataFrame(confusion_matrix(y_test, xgb.predict(x_test)), columns=['Predicted 0', \\\n",
    "                                                                                               'Predicted 1'],\\\n",
    "                                   index=['Actual 0', 'Actual 1'])\n",
    "confMatrix"
   ]
  },
  {
   "cell_type": "code",
   "execution_count": 602,
   "metadata": {
    "scrolled": true
   },
   "outputs": [
    {
     "name": "stdout",
     "output_type": "stream",
     "text": [
      "F1-score =  [0. 0. 0. 0. 0.]  Mean F1 score =  0.0\n"
     ]
    },
    {
     "ename": "NameError",
     "evalue": "name 'score_on_test_set' is not defined",
     "output_type": "error",
     "traceback": [
      "\u001b[1;31m---------------------------------------------------------------------------\u001b[0m",
      "\u001b[1;31mNameError\u001b[0m                                 Traceback (most recent call last)",
      "\u001b[1;32m<ipython-input-602-ba7fa62aad0e>\u001b[0m in \u001b[0;36m<module>\u001b[1;34m\u001b[0m\n\u001b[0;32m      7\u001b[0m \u001b[1;33m\u001b[0m\u001b[0m\n\u001b[0;32m      8\u001b[0m \u001b[1;31m# Scoring on test set\u001b[0m\u001b[1;33m\u001b[0m\u001b[1;33m\u001b[0m\u001b[1;33m\u001b[0m\u001b[0m\n\u001b[1;32m----> 9\u001b[1;33m \u001b[0mtest_data\u001b[0m\u001b[1;33m,\u001b[0m\u001b[0mscore_xgb\u001b[0m \u001b[1;33m=\u001b[0m \u001b[0mscore_on_test_set\u001b[0m\u001b[1;33m(\u001b[0m\u001b[0mxgb\u001b[0m\u001b[1;33m,\u001b[0m\u001b[1;34m\"test.csv\"\u001b[0m\u001b[1;33m,\u001b[0m\u001b[1;34m\"submission_xgb.csv\"\u001b[0m\u001b[1;33m)\u001b[0m\u001b[1;33m\u001b[0m\u001b[1;33m\u001b[0m\u001b[0m\n\u001b[0m",
      "\u001b[1;31mNameError\u001b[0m: name 'score_on_test_set' is not defined"
     ]
    }
   ],
   "source": [
    "# Cross validation scores\n",
    "f1_scores = cross_val_score(xgb, x_train, y_train, cv=5, scoring='f1')\n",
    "print(\"F1-score = \",f1_scores,\" Mean F1 score = \",np.mean(f1_scores))\n",
    " \n",
    "# Training the models\n",
    "xgb.fit(x_train, y_train)\n",
    " \n",
    "# Scoring on test set\n",
    "test_data,score_xgb = score_on_test_set(xgb,\"test.csv\",\"submission_xgb.csv\")"
   ]
  },
  {
   "cell_type": "code",
   "execution_count": 605,
   "metadata": {},
   "outputs": [
    {
     "data": {
      "text/plain": [
       "('f1', 0.0)"
      ]
     },
     "execution_count": 605,
     "metadata": {},
     "output_type": "execute_result"
    }
   ],
   "source": [
    "def xg_f1(t,y):\n",
    "#     t = t.get_label()\n",
    "    y_bin = [1. if y_cont > 0.5 else 0. for y_cont in y] # binaryzing your output\n",
    "    return 'f1',f1_score(t,y_bin)\n",
    "\n",
    "\n",
    "xg_f1(y_train, xgb.predict(x_train))"
   ]
  },
  {
   "cell_type": "code",
   "execution_count": 593,
   "metadata": {},
   "outputs": [
    {
     "ename": "AttributeError",
     "evalue": "'XGBClassifier' object has no attribute 'cv_results_'",
     "output_type": "error",
     "traceback": [
      "\u001b[1;31m---------------------------------------------------------------------------\u001b[0m",
      "\u001b[1;31mAttributeError\u001b[0m                            Traceback (most recent call last)",
      "\u001b[1;32m<ipython-input-593-c103c6c33898>\u001b[0m in \u001b[0;36m<module>\u001b[1;34m\u001b[0m\n\u001b[0;32m      4\u001b[0m \u001b[1;31m#                           scoring='f1')\u001b[0m\u001b[1;33m\u001b[0m\u001b[1;33m\u001b[0m\u001b[1;33m\u001b[0m\u001b[0m\n\u001b[0;32m      5\u001b[0m \u001b[0mxgb\u001b[0m\u001b[1;33m.\u001b[0m\u001b[0mfit\u001b[0m\u001b[1;33m(\u001b[0m\u001b[0mx_train\u001b[0m\u001b[1;33m,\u001b[0m \u001b[0my_train\u001b[0m\u001b[1;33m)\u001b[0m\u001b[1;33m\u001b[0m\u001b[1;33m\u001b[0m\u001b[0m\n\u001b[1;32m----> 6\u001b[1;33m \u001b[0mmean_test_score\u001b[0m \u001b[1;33m=\u001b[0m \u001b[0mxgb\u001b[0m\u001b[1;33m.\u001b[0m\u001b[0mcv_results_\u001b[0m\u001b[1;33m[\u001b[0m\u001b[1;34m\"mean_test_score\"\u001b[0m\u001b[1;33m]\u001b[0m\u001b[1;33m\u001b[0m\u001b[1;33m\u001b[0m\u001b[0m\n\u001b[0m\u001b[0;32m      7\u001b[0m \u001b[1;33m\u001b[0m\u001b[0m\n\u001b[0;32m      8\u001b[0m \u001b[0mstd_test_score\u001b[0m \u001b[1;33m=\u001b[0m \u001b[0mxgb\u001b[0m\u001b[1;33m.\u001b[0m\u001b[0mcv_results_\u001b[0m\u001b[1;33m[\u001b[0m\u001b[1;34m\"std_test_score\"\u001b[0m\u001b[1;33m]\u001b[0m\u001b[1;33m\u001b[0m\u001b[1;33m\u001b[0m\u001b[0m\n",
      "\u001b[1;31mAttributeError\u001b[0m: 'XGBClassifier' object has no attribute 'cv_results_'"
     ]
    }
   ],
   "source": [
    "# xgbGS = GridSearchCV(xgbPipe,\n",
    "#                           param_grid=xgbParam,\n",
    "#                           cv=5,\n",
    "#                           scoring='f1')\n",
    "xgb.fit(x_train, y_train)\n",
    "# mean_test_score = xgb.cv_results_[\"mean_test_score\"]\n",
    "\n",
    "# std_test_score = xgb.cv_results_[\"std_test_score\"]\n",
    "\n",
    "print(\n",
    "    pd.DataFrame.from_dict(xgbGS.best_params_,\n",
    "                           orient='index',\n",
    "                           columns=[\"selected parameter\"]))\n",
    "\n",
    "# pd.DataFrame(xgbGS.cv_results_).sort_values(by='rank_test_score')[:5][[\n",
    "#     'rank_test_score', 'param_randtree__max_depth', 'mean_test_score',\n",
    "#     'std_test_score'\n",
    "# ]].T\n",
    "\n",
    "plt.figure(figsize=(7, 5))\n",
    "plt.errorbar(np.arange(mean_test_score.shape[0]),\n",
    "             mean_test_score,\n",
    "             std_test_score,\n",
    "             fmt='ok')"
   ]
  },
  {
   "cell_type": "markdown",
   "metadata": {},
   "source": [
    "# Porównanie Dokładności Modeli"
   ]
  },
  {
   "cell_type": "code",
   "execution_count": 266,
   "metadata": {},
   "outputs": [
    {
     "name": "stdout",
     "output_type": "stream",
     "text": [
      "Logistic Regression\n",
      "accuracy on the train set:  0.0\n",
      "accuracy on the test set:  0.0\n",
      "0.0\n",
      "0.0\n",
      "\n",
      "K-Neighbors Classifier\n",
      "accuracy on the train set:  1.0\n",
      "accuracy on the test set: 0.1764705882352941\n",
      "1.0\n",
      "0.1764705882352941\n",
      "\n",
      "Decision Tree Classifier\n",
      "accuracy on the train set:  1.0\n",
      "accuracy on the test set:  0.08571428571428572\n",
      "1.0\n",
      "0.08571428571428572\n",
      "\n",
      "RandomForestClassifier\n",
      "accuracy on the train set 1.0\n",
      "accuracy on the test set 0.18181818181818182\n",
      "1.0\n",
      "0.18181818181818182\n"
     ]
    }
   ],
   "source": [
    "print(\"Logistic Regression\")\n",
    "print(\"accuracy on the train set: \", logregGS.score(x_train, y_train))\n",
    "print(\"accuracy on the test set: \", logregGS.score(x_test, y_test))\n",
    "print(f1_score(y_train, logregGS.predict(x_train)))\n",
    "print(f1_score(y_test, logregGS.predict(x_test)))\n",
    "\n",
    "print(\"\\nK-Neighbors Classifier\")\n",
    "print(\"accuracy on the train set: \", knnGS.score(x_train, y_train))\n",
    "print(\"accuracy on the test set:\", knnGS.score(x_test, y_test))\n",
    "print(f1_score(y_train, knnGS.predict(x_train)))\n",
    "print(f1_score(y_test, knnGS.predict(x_test)))\n",
    "\n",
    "print(\"\\nDecision Tree Classifier\")\n",
    "print('accuracy on the train set: ', dectreeGS.score(x_train, y_train))\n",
    "print('accuracy on the test set: ', dectreeGS.score(x_test, y_test))\n",
    "print(f1_score(y_train, dectreeGS.predict(x_train)))\n",
    "print(f1_score(y_test, dectreeGS.predict(x_test)))\n",
    "\n",
    "print(\"\\nRandomForestClassifier\")\n",
    "print(\"accuracy on the train set\", randtreeGS.score(x_train, y_train))\n",
    "print(\"accuracy on the test set\", randtreeGS.score(x_test, y_test))\n",
    "print(f1_score(y_train, randtreeGS.predict(x_train)))\n",
    "print(f1_score(y_test, randtreeGS.predict(x_test)))"
   ]
  },
  {
   "cell_type": "code",
   "execution_count": 268,
   "metadata": {},
   "outputs": [
    {
     "data": {
      "text/plain": [
       "(1000,)"
      ]
     },
     "execution_count": 268,
     "metadata": {},
     "output_type": "execute_result"
    }
   ],
   "source": [
    "Y_train.shape"
   ]
  },
  {
   "cell_type": "code",
   "execution_count": 269,
   "metadata": {},
   "outputs": [
    {
     "name": "stdout",
     "output_type": "stream",
     "text": [
      "Logistic Regression\n",
      "\t features_KNR 75\n",
      "\t\tCV f1 on the train set:  0.0 %\n",
      "\t\tCV f1 on the test set: 3.5999999999999996 %\n",
      "\t features_DTR 75\n",
      "\t\tCV f1 on the train set:  0.0 %\n",
      "\t\tCV f1 on the test set: 12.0 %\n",
      "\t features_boruta 16\n",
      "\t\tCV f1 on the train set:  0.0 %\n",
      "\t\tCV f1 on the test set: 4.3999999999999995 %\n"
     ]
    }
   ],
   "source": [
    "print(\"Logistic Regression\")\n",
    "for features_name, features in {\n",
    "        'features_KNR': features_KNR,\n",
    "        'features_DTR': features_DTR,\n",
    "        'features_boruta': features_boruta,\n",
    "}.items():\n",
    "    print(\"\\t\", features_name, len(features))\n",
    "    x_sel = X_train_df.iloc[:, features]\n",
    "    x_val_sel = X_train_df.iloc[:, features]\n",
    "    x_train, x_test, y_train, y_test = train_test_split(x_sel,\n",
    "                                                        Y_train,\n",
    "                                                        test_size=0.25)\n",
    "\n",
    "    #     x_sel = x_df.iloc[:, features]\n",
    "    #     x_val_sel = x_df_val.iloc[:, features]\n",
    "    #     x_train, x_test, y_train, y_test = train_test_split(x_sel,y_df,test_size=0.25)\n",
    "\n",
    "    param_space = np.logspace(-3, 0, 100)\n",
    "    logregParam = {'logreg__C': param_space}\n",
    "    logregPipe = Pipeline([('scaler', StandardScaler()),\n",
    "                           ('logreg', LogisticRegression(random_state=123))])\n",
    "    logregGS = GridSearchCV(estimator=logregPipe,\n",
    "                            param_grid=logregParam,\n",
    "                            cv=5,\n",
    "                            scoring='f1')\n",
    "    logregGS.fit(x_train, y_train)\n",
    "\n",
    "    skf = StratifiedKFold(n_splits=5, shuffle=True)\n",
    "    skf.get_n_splits(x_train, y_train)\n",
    "\n",
    "    cv_train = cross_val_score(logregGS,\n",
    "                               x_train,\n",
    "                               y_train,\n",
    "                               cv=skf,\n",
    "                               scoring=\"f1\")\n",
    "    cv_test = cross_val_score(logregGS, x_test, y_test, cv=skf, scoring=\"f1\")\n",
    "\n",
    "    print(\"\\t\\tCV f1 on the train set: \", cv_train.mean().round(3) * 100, \"%\")\n",
    "    print(\"\\t\\tCV f1 on the test set:\", cv_test.mean().round(3) * 100, \"%\")\n",
    "\n",
    "#     print(\"\\t\\taccuracy on the train set: \", logregGS.score(x_train, y_train).round(3))\n",
    "#     print(\"\\t\\taccuracy on the test set:\", logregGS.score(x_test, y_test).round(3))"
   ]
  },
  {
   "cell_type": "code",
   "execution_count": 270,
   "metadata": {},
   "outputs": [
    {
     "name": "stdout",
     "output_type": "stream",
     "text": [
      "\n",
      "K-Neighbors Classifier\n",
      "\t features_KNR 75\n",
      "\t\tCV f1 on the train set:  13.813 %\n",
      "\t\tCV f1 on the test set: 12.564 %\n",
      "\t features_DTR 75\n",
      "\t\tCV f1 on the train set:  14.452 %\n",
      "\t\tCV f1 on the test set: 10.632 %\n",
      "\t features_boruta 16\n",
      "\t\tCV f1 on the train set:  15.826 %\n",
      "\t\tCV f1 on the test set: 11.21 %\n"
     ]
    }
   ],
   "source": [
    "print(\"\\nK-Neighbors Classifier\")\n",
    "for features_name, features in {\n",
    "        'features_KNR': features_KNR,\n",
    "        'features_DTR': features_DTR,\n",
    "        'features_boruta': features_boruta,\n",
    "}.items():\n",
    "    print(\"\\t\", features_name, len(features))\n",
    "    x_sel = X_train_df.iloc[:, features]\n",
    "    x_val_sel = X_train_df.iloc[:, features]\n",
    "    x_train, x_test, y_train, y_test = train_test_split(x_sel,\n",
    "                                                        Y_train,\n",
    "                                                        test_size=0.25)\n",
    "    knnPipe = Pipeline([\n",
    "        ('scaler', StandardScaler()),\n",
    "        ('knn', KNeighborsClassifier(n_jobs=-1)),\n",
    "    ])\n",
    "    knnParam = {\n",
    "        'knn__n_neighbors': [1, 3, 5, 7, 8, 9, 10, 11],\n",
    "        'knn__weights': ['uniform', 'distance'],\n",
    "    }\n",
    "    knnGS = GridSearchCV(knnPipe, param_grid=knnParam, n_jobs=-1, scoring=\"f1\")\n",
    "    _ = knnGS.fit(x_train, y_train)\n",
    "\n",
    "    skf = StratifiedKFold(n_splits=5, shuffle=True)\n",
    "    skf.get_n_splits(x_train, y_train)\n",
    "\n",
    "    cv_train = cross_val_score(knnGS, x_train, y_train, cv=skf, scoring=\"f1\")\n",
    "    cv_test = cross_val_score(knnGS, x_test, y_test, cv=skf, scoring=\"f1\")\n",
    "\n",
    "    print(\"\\t\\tCV f1 on the train set: \", (cv_train.mean() * 100).round(3),\n",
    "          \"%\")\n",
    "    print(\"\\t\\tCV f1 on the test set:\", (cv_test.mean() * 100).round(3), \"%\")\n",
    "\n",
    "#     print(\"\\t\\taccuracy on the train set: \", knnGS.score(x_train, y_train))\n",
    "#     print(\"\\t\\taccuracy on the test set:\", knnGS.score(x_test, y_test))"
   ]
  },
  {
   "cell_type": "code",
   "execution_count": 693,
   "metadata": {},
   "outputs": [
    {
     "name": "stdout",
     "output_type": "stream",
     "text": [
      "\n",
      "Decision Tree Clasifier\n",
      "\t all 103\n",
      "\t\tCV f1 on the train set:  26.853 %\n",
      "\t\tCV f1 on the test set: 27.408 %\n",
      "\t features_KNR 70\n",
      "\t\tCV f1 on the train set:  19.269 %\n",
      "\t\tCV f1 on the test set: 25.846 %\n",
      "\t features_DTR 79\n",
      "\t\tCV f1 on the train set:  21.68 %\n",
      "\t\tCV f1 on the test set: 22.732 %\n"
     ]
    }
   ],
   "source": [
    "print(\"\\nDecision Tree Clasifier\")\n",
    "for features_name, features in {\n",
    "        'all': range(103),\n",
    "        'features_KNR': features_KNR,\n",
    "        'features_DTR': features_DTR,\n",
    "#         'features_boruta': features_boruta,\n",
    "}.items():\n",
    "    print(\"\\t\", features_name, len(features))\n",
    "    x_sel = X_train_df.iloc[:, features]\n",
    "    x_val_sel = X_train_df.iloc[:, features]\n",
    "    x_train, x_test, y_train, y_test = train_test_split(x_sel,\n",
    "                                                        Y_train,\n",
    "                                                        test_size=0.25)\n",
    "\n",
    "    dectreePipe = Pipeline([('scaler', StandardScaler()),\n",
    "                            ('dectree',\n",
    "                             DecisionTreeClassifier(random_state=123, class_weight='balanced', criterion='entropy'))])\n",
    "    dectreeParam = {\n",
    "        'dectree__max_depth': range(1,20),\n",
    "    }\n",
    "    dectreeGS = GridSearchCV(dectreePipe,\n",
    "                             param_grid=dectreeParam,\n",
    "                             cv=5,\n",
    "                             scoring=\"f1\")\n",
    "    _ = dectreeGS.fit(x_train, y_train)\n",
    "\n",
    "    skf = StratifiedKFold(n_splits=5, shuffle=True)\n",
    "    skf.get_n_splits(x_train, y_train)\n",
    "\n",
    "    cv_train = cross_val_score(dectreeGS,\n",
    "                               x_train,\n",
    "                               y_train,\n",
    "                               cv=skf,\n",
    "                               scoring=\"f1\")\n",
    "    cv_test = cross_val_score(dectreeGS, x_test, y_test, cv=skf, scoring=\"f1\")\n",
    "\n",
    "    print(\"\\t\\tCV f1 on the train set: \", (cv_train.mean() * 100).round(3),\n",
    "          \"%\")\n",
    "    print(\"\\t\\tCV f1 on the test set:\", (cv_test.mean() * 100).round(3), \"%\")\n",
    "\n",
    "#     print(\"\\t\\taccuracy on the train set: \", dectreeGS.score(x_train, y_train))\n",
    "#     print(\"\\t\\taccuracy on the test set:\", dectreeGS.score(x_test, y_test))"
   ]
  },
  {
   "cell_type": "code",
   "execution_count": 272,
   "metadata": {},
   "outputs": [
    {
     "name": "stdout",
     "output_type": "stream",
     "text": [
      "\n",
      "Random Forest Classifier\n",
      "\t features_KNR 75\n",
      "\t\tCV f1 on the train set:  2.581 %\n",
      "\t\tCV f1 on the test set: 0.0 %\n",
      "\t features_DTR 75\n",
      "\t\tCV f1 on the train set:  2.861 %\n",
      "\t\tCV f1 on the test set: 13.795 %\n",
      "\t features_boruta 16\n",
      "\t\tCV f1 on the train set:  1.905 %\n",
      "\t\tCV f1 on the test set: 0.0 %\n"
     ]
    }
   ],
   "source": [
    "print(\"\\nRandom Forest Classifier\")\n",
    "for features_name, features in {\n",
    "        'features_KNR': features_KNR,\n",
    "        'features_DTR': features_DTR,\n",
    "        'features_boruta': features_boruta,\n",
    "}.items():\n",
    "    print(\"\\t\", features_name, len(features))\n",
    "    x_sel = X_train_df.iloc[:, features]\n",
    "    x_val_sel = X_train_df.iloc[:, features]\n",
    "    x_train, x_test, y_train, y_test = train_test_split(x_sel,\n",
    "                                                        Y_train,\n",
    "                                                        test_size=0.25)\n",
    "\n",
    "    randtreePipe = Pipeline([('scaler', StandardScaler()),\n",
    "                             ('randtree',\n",
    "                              RandomForestClassifier(random_state=123,\n",
    "                                                     n_estimators=100,\n",
    "                                                     bootstrap=True))])\n",
    "    max_depth_param = range(5, 25)\n",
    "    randtreeParam = {'randtree__max_depth': max_depth_param}\n",
    "    randtreeGS = GridSearchCV(randtreePipe,\n",
    "                              param_grid=randtreeParam,\n",
    "                              cv=5,\n",
    "                              scoring=\"f1\")\n",
    "    randtreeGS.fit(x_train, y_train)\n",
    "\n",
    "    skf = StratifiedKFold(n_splits=5, shuffle=True)\n",
    "    skf.get_n_splits(x_train, y_train)\n",
    "\n",
    "    cv_train = cross_val_score(randtreeGS,\n",
    "                               x_train,\n",
    "                               y_train,\n",
    "                               cv=skf,\n",
    "                               scoring=\"f1\")\n",
    "    cv_test = cross_val_score(randtreeGS, x_test, y_test, cv=skf, scoring=\"f1\")\n",
    "\n",
    "    print(\"\\t\\tCV f1 on the train set: \", (cv_train.mean() * 100).round(3),\n",
    "          \"%\")\n",
    "    print(\"\\t\\tCV f1 on the test set:\", (cv_test.mean() * 100).round(3), \"%\")\n",
    "\n",
    "#     print(\"\\t\\taccuracy on the train set: \", randtreeGS.score(x_train, y_train))\n",
    "#     print(\"\\t\\taccuracy on the test set:\", randtreeGS.score(x_test, y_test))"
   ]
  },
  {
   "cell_type": "code",
   "execution_count": null,
   "metadata": {},
   "outputs": [],
   "source": [
    "# save_data = knnGS.predict_proba(x_val_sel)[:, 1]\n",
    "# np.savetxt(\"foo.csv\", save_data, delimiter=\"\", fmt='%f', header=\"\\r\\\"MATDOR\\\"\")"
   ]
  }
 ],
 "metadata": {
  "kernelspec": {
   "display_name": "Python 3",
   "language": "python",
   "name": "python3"
  },
  "language_info": {
   "codemirror_mode": {
    "name": "ipython",
    "version": 3
   },
   "file_extension": ".py",
   "mimetype": "text/x-python",
   "name": "python",
   "nbconvert_exporter": "python",
   "pygments_lexer": "ipython3",
   "version": "3.7.3"
  },
  "toc": {
   "base_numbering": 1,
   "nav_menu": {
    "height": "147px",
    "width": "286px"
   },
   "number_sections": true,
   "sideBar": true,
   "skip_h1_title": false,
   "title_cell": "Table of Contents",
   "title_sidebar": "Contents",
   "toc_cell": false,
   "toc_position": {},
   "toc_section_display": true,
   "toc_window_display": false
  }
 },
 "nbformat": 4,
 "nbformat_minor": 2
}
