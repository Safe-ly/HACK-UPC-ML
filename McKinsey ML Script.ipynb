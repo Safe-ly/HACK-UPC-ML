{
 "cells": [
  {
   "cell_type": "code",
   "execution_count": 109,
   "metadata": {},
   "outputs": [],
   "source": [
    "import numpy as np\n",
    "import pandas as pd\n",
    "import matplotlib.pyplot as plt\n",
    "import seaborn as sns\n",
    "from boruta import BorutaPy\n",
    "import pickle\n",
    "from tqdm import tqdm_notebook as tqdm\n",
    "import warnings\n",
    "warnings.filterwarnings('ignore')\n",
    "\n",
    "from sklearn.decomposition import PCA\n",
    "from sklearn.ensemble import RandomForestClassifier\n",
    "from sklearn.neighbors import KNeighborsRegressor, KNeighborsClassifier\n",
    "from sklearn.tree import DecisionTreeRegressor, DecisionTreeClassifier\n",
    "from sklearn.linear_model import LogisticRegression\n",
    "from sklearn.preprocessing import StandardScaler\n",
    "from sklearn.pipeline import Pipeline\n",
    "from sklearn.model_selection import cross_val_score, train_test_split, GridSearchCV, StratifiedKFold\n",
    "from sklearn.metrics import classification_report, log_loss, confusion_matrix, f1_score, balanced_accuracy_score, accuracy_score, roc_curve, auc"
   ]
  },
  {
   "cell_type": "code",
   "execution_count": 110,
   "metadata": {},
   "outputs": [],
   "source": [
    "X_true_test_df = pd.read_csv(\"test_processed.csv\", index_col=0)\n",
    "train_df = pd.read_csv(\"train_processed.csv\", index_col=0)\n",
    "\n",
    "Y_train_df = train_df[\"target\"]\n",
    "X_train_df = train_df.drop(\"target\", axis=1)"
   ]
  },
  {
   "cell_type": "code",
   "execution_count": 111,
   "metadata": {},
   "outputs": [],
   "source": [
    "# X_true_test_df = X_true_test_df[:2000]\n",
    "# Y_train_df = Y_train_df[:2000]\n",
    "# X_train_df = X_train_df[:2000]"
   ]
  },
  {
   "cell_type": "code",
   "execution_count": 112,
   "metadata": {},
   "outputs": [],
   "source": [
    "X_train = X_train_df.values\n",
    "Y_train = Y_train_df.values\n",
    "X_true_test = X_true_test_df.values"
   ]
  },
  {
   "cell_type": "code",
   "execution_count": 113,
   "metadata": {},
   "outputs": [
    {
     "name": "stdout",
     "output_type": "stream",
     "text": [
      "(137599, 103) (129950, 103)\n"
     ]
    }
   ],
   "source": [
    "print(X_train.shape, X_true_test.shape)"
   ]
  },
  {
   "cell_type": "markdown",
   "metadata": {},
   "source": [
    "# Feature Selection"
   ]
  },
  {
   "cell_type": "code",
   "execution_count": 50,
   "metadata": {},
   "outputs": [],
   "source": [
    "def standarize(df):\n",
    "    return (df - df.min(axis=0)) / (df.max(axis=0) - df.min(axis=0))\n",
    "\n",
    "\n",
    "def boruta_feature_selection(x, y):\n",
    "    rfc = RandomForestClassifier(n_estimators=200,\n",
    "                                 n_jobs=-1,\n",
    "                                 class_weight='balanced',\n",
    "                                 max_depth=7,\n",
    "                                 random_state=0)\n",
    "    boruta_selector = BorutaPy(rfc,\n",
    "                               n_estimators='auto',\n",
    "                               verbose=1,\n",
    "                               random_state=0)\n",
    "    boruta_selector.fit(x, y)\n",
    "    features = np.where(boruta_selector.support_ +\n",
    "                        boruta_selector.support_weak_ == True)[0]\n",
    "    print(f\"\\rBoruta\\nNumber of Selected Features: {features.shape[0]}\")\n",
    "    print(\"Selected Features: \")\n",
    "    print(*features.tolist(), sep=\", \")\n",
    "    return features.tolist()\n",
    "\n",
    "\n",
    "def calculate_r_2_for_feature(data, feature, regression_type):\n",
    "    new_data = data.drop(feature, axis=1)\n",
    "\n",
    "    X_train, \\\n",
    "    X_test,  \\\n",
    "    y_train, \\\n",
    "    y_test = train_test_split(\n",
    "        new_data,data[feature],test_size=0.25\n",
    "    )\n",
    "    if regression_type == \"KNR\":\n",
    "        regressor = KNeighborsRegressor()\n",
    "    elif regression_type == \"DTR\":\n",
    "        regressor = DecisionTreeRegressor()\n",
    "    else:\n",
    "        raise Exception(\"Wrong type of regression, use:\\n\",\n",
    "                        \"KNR for KNeighborsRegressor\\n\",\n",
    "                        \"DTR for DecisionTreeRegressor\")\n",
    "    regressor.fit(X_train, y_train)\n",
    "\n",
    "    # score returns the coefficient of determination R^2 of the prediction.\n",
    "    score = regressor.score(X_test, y_test)\n",
    "    return score\n",
    "\n",
    "\n",
    "def calculate_mean_r_2(data, feature, regression_type, iteration=10):\n",
    "    scores = []\n",
    "    for i in range(iteration):\n",
    "        scores.append(calculate_r_2_for_feature(data, feature,\n",
    "                                                regression_type))\n",
    "    scores = np.array(scores)\n",
    "    return scores.mean()\n",
    "\n",
    "\n",
    "def r_2_score_denoisser(X_train, regression_type=\"KNR\"):\n",
    "    x_df = pd.DataFrame(X_train)\n",
    "    avg_r2_feature_scores = []\n",
    "    for column in tqdm(x_df.columns):\n",
    "        score = calculate_mean_r_2(x_df.sample(n=30, random_state=1), column,\n",
    "                                   regression_type)\n",
    "        avg_r2_feature_scores.append(score)\n",
    "\n",
    "    features = [i for i, r2 in enumerate(avg_r2_feature_scores) if r2 > 0]\n",
    "    print(\"R\\u00b2 Score Denoisser\\nRegressor:\", end=\" \")\n",
    "    if regression_type == \"KNR\":\n",
    "        print(\"KNeighborsRegressor\")\n",
    "    elif regression_type == \"DTR\":\n",
    "        print(\"DecisionTreeRegressor\")\n",
    "    print(f\"Number of Selected Features: {len(features)}\")\n",
    "    print(\"Selected Feaures: \")\n",
    "    print(*features, sep=\", \")\n",
    "    return features"
   ]
  },
  {
   "cell_type": "code",
   "execution_count": 51,
   "metadata": {},
   "outputs": [
    {
     "data": {
      "application/vnd.jupyter.widget-view+json": {
       "model_id": "c79dcc09a925486887ff5cd28fcbd2d0",
       "version_major": 2,
       "version_minor": 0
      },
      "text/plain": [
       "HBox(children=(IntProgress(value=0, max=103), HTML(value='')))"
      ]
     },
     "metadata": {},
     "output_type": "display_data"
    },
    {
     "name": "stdout",
     "output_type": "stream",
     "text": [
      "\n",
      "R² Score Denoisser\n",
      "Regressor: DecisionTreeRegressor\n",
      "Number of Selected Features: 71\n",
      "Selected Feaures: \n",
      "1, 8, 9, 11, 13, 14, 15, 16, 17, 18, 19, 20, 21, 22, 23, 24, 25, 26, 27, 28, 29, 30, 31, 32, 33, 35, 36, 37, 38, 40, 41, 43, 44, 45, 46, 47, 49, 51, 52, 53, 54, 55, 56, 57, 58, 59, 61, 62, 63, 64, 65, 66, 67, 68, 69, 70, 71, 72, 73, 74, 75, 76, 77, 78, 79, 82, 84, 87, 88, 89, 102\n"
     ]
    }
   ],
   "source": [
    "features_DTR = r_2_score_denoisser(X_train, regression_type=\"DTR\")"
   ]
  },
  {
   "cell_type": "code",
   "execution_count": 52,
   "metadata": {},
   "outputs": [
    {
     "data": {
      "application/vnd.jupyter.widget-view+json": {
       "model_id": "bd9b5cc11aeb49bd805b588dd6bd2f4e",
       "version_major": 2,
       "version_minor": 0
      },
      "text/plain": [
       "HBox(children=(IntProgress(value=0, max=103), HTML(value='')))"
      ]
     },
     "metadata": {},
     "output_type": "display_data"
    },
    {
     "name": "stdout",
     "output_type": "stream",
     "text": [
      "\n",
      "R² Score Denoisser\n",
      "Regressor: KNeighborsRegressor\n",
      "Number of Selected Features: 68\n",
      "Selected Feaures: \n",
      "1, 7, 13, 14, 15, 16, 17, 18, 19, 20, 21, 22, 23, 24, 25, 26, 27, 28, 29, 30, 31, 32, 33, 34, 35, 36, 37, 38, 39, 40, 41, 43, 44, 45, 46, 47, 49, 52, 53, 54, 55, 56, 57, 58, 59, 61, 62, 64, 65, 66, 67, 68, 69, 70, 71, 72, 73, 74, 75, 76, 77, 78, 79, 87, 89, 90, 98, 102\n"
     ]
    }
   ],
   "source": [
    "features_KNR = r_2_score_denoisser(X_train, regression_type=\"KNR\")"
   ]
  },
  {
   "cell_type": "code",
   "execution_count": 53,
   "metadata": {
    "scrolled": false
   },
   "outputs": [
    {
     "name": "stdout",
     "output_type": "stream",
     "text": [
      "Iteration: 1 / 100\n",
      "Iteration: 2 / 100\n",
      "Iteration: 3 / 100\n",
      "Iteration: 4 / 100\n",
      "Iteration: 5 / 100\n",
      "Iteration: 6 / 100\n",
      "Iteration: 7 / 100\n",
      "Iteration: 8 / 100\n",
      "Iteration: 9 / 100\n",
      "Iteration: 10 / 100\n",
      "Iteration: 11 / 100\n",
      "Iteration: 12 / 100\n",
      "Iteration: 13 / 100\n",
      "Iteration: 14 / 100\n",
      "Iteration: 15 / 100\n",
      "Iteration: 16 / 100\n",
      "Iteration: 17 / 100\n",
      "Iteration: 18 / 100\n",
      "Iteration: 19 / 100\n",
      "\n",
      "\n",
      "BorutaPy finished running.\n",
      "\n",
      "Iteration: \t20 / 100\n",
      "Confirmed: \t16\n",
      "Tentative: \t0\n",
      "Rejected: \t87\n",
      "Boruta\n",
      "Number of Selected Features: 16\n",
      "Selected Features: \n",
      "0, 1, 2, 3, 4, 13, 14, 27, 29, 37, 40, 63, 75, 77, 101, 102\n"
     ]
    }
   ],
   "source": [
    "features_boruta = boruta_feature_selection(X_train, Y_train)"
   ]
  },
  {
   "cell_type": "code",
   "execution_count": 54,
   "metadata": {},
   "outputs": [],
   "source": [
    "features_all = range(103)"
   ]
  },
  {
   "cell_type": "code",
   "execution_count": 13,
   "metadata": {},
   "outputs": [],
   "source": [
    "# x_train, x_test, y_train, y_test = train_test_split(X_train[:, features],Y_train,test_size=0.3)"
   ]
  },
  {
   "cell_type": "markdown",
   "metadata": {},
   "source": [
    "## PCA"
   ]
  },
  {
   "cell_type": "code",
   "execution_count": 41,
   "metadata": {
    "scrolled": true
   },
   "outputs": [
    {
     "name": "stdout",
     "output_type": "stream",
     "text": [
      "68\n"
     ]
    }
   ],
   "source": [
    "def pca_decomp(X_train, Y_train, X_true_test):\n",
    "    X_train = StandardScaler().fit_transform(X_train)\n",
    "    pca = PCA(n_components=0.9, svd_solver='full', random_state=0).fit(X_train)\n",
    "    X_train = pca.transform(X_train)\n",
    "    X_true_test = pca.transform(X_true_test)\n",
    "    print(len(pca.components_))\n",
    "    x_train, x_test, y_train, y_test = train_test_split(X_train,\n",
    "                                                        Y_train,\n",
    "                                                        test_size=0.3)\n",
    "    return (x_train, x_test, y_train, y_test, X_true_test)\n",
    "\n",
    "\n",
    "x_train, x_test, y_train, y_test, x_true_test = pca_decomp(\n",
    "    X_train, Y_train, X_true_test)"
   ]
  },
  {
   "cell_type": "code",
   "execution_count": 107,
   "metadata": {
    "collapsed": true
   },
   "outputs": [
    {
     "ename": "TypeError",
     "evalue": "'(slice(None, None, None), 0)' is an invalid key",
     "output_type": "error",
     "traceback": [
      "\u001b[1;31m---------------------------------------------------------------------------\u001b[0m",
      "\u001b[1;31mTypeError\u001b[0m                                 Traceback (most recent call last)",
      "\u001b[1;32m<ipython-input-107-6223c7bb7a5d>\u001b[0m in \u001b[0;36m<module>\u001b[1;34m\u001b[0m\n\u001b[0;32m      3\u001b[0m \u001b[1;32mfor\u001b[0m \u001b[0mi\u001b[0m \u001b[1;32min\u001b[0m \u001b[0mrange\u001b[0m\u001b[1;33m(\u001b[0m\u001b[1;36m16\u001b[0m\u001b[1;33m)\u001b[0m\u001b[1;33m:\u001b[0m\u001b[1;33m\u001b[0m\u001b[1;33m\u001b[0m\u001b[0m\n\u001b[0;32m      4\u001b[0m     \u001b[0mfig\u001b[0m\u001b[1;33m.\u001b[0m\u001b[0madd_subplot\u001b[0m\u001b[1;33m(\u001b[0m\u001b[1;36m5\u001b[0m\u001b[1;33m,\u001b[0m \u001b[1;36m4\u001b[0m\u001b[1;33m,\u001b[0m \u001b[0mi\u001b[0m \u001b[1;33m+\u001b[0m \u001b[1;36m1\u001b[0m\u001b[1;33m)\u001b[0m\u001b[1;33m\u001b[0m\u001b[1;33m\u001b[0m\u001b[0m\n\u001b[1;32m----> 5\u001b[1;33m     \u001b[0mplt\u001b[0m\u001b[1;33m.\u001b[0m\u001b[0mhist\u001b[0m\u001b[1;33m(\u001b[0m\u001b[0mx_train\u001b[0m\u001b[1;33m[\u001b[0m\u001b[1;33m:\u001b[0m\u001b[1;33m,\u001b[0m \u001b[0mi\u001b[0m\u001b[1;33m]\u001b[0m\u001b[1;33m)\u001b[0m\u001b[1;33m\u001b[0m\u001b[1;33m\u001b[0m\u001b[0m\n\u001b[0m\u001b[0;32m      6\u001b[0m     \u001b[0mplt\u001b[0m\u001b[1;33m.\u001b[0m\u001b[0mtitle\u001b[0m\u001b[1;33m(\u001b[0m\u001b[1;34mf\"{col_names[i]}\"\u001b[0m\u001b[1;33m)\u001b[0m\u001b[1;33m\u001b[0m\u001b[1;33m\u001b[0m\u001b[0m\n",
      "\u001b[1;32m~\\Miniconda3\\lib\\site-packages\\pandas\\core\\frame.py\u001b[0m in \u001b[0;36m__getitem__\u001b[1;34m(self, key)\u001b[0m\n\u001b[0;32m   2925\u001b[0m             \u001b[1;32mif\u001b[0m \u001b[0mself\u001b[0m\u001b[1;33m.\u001b[0m\u001b[0mcolumns\u001b[0m\u001b[1;33m.\u001b[0m\u001b[0mnlevels\u001b[0m \u001b[1;33m>\u001b[0m \u001b[1;36m1\u001b[0m\u001b[1;33m:\u001b[0m\u001b[1;33m\u001b[0m\u001b[1;33m\u001b[0m\u001b[0m\n\u001b[0;32m   2926\u001b[0m                 \u001b[1;32mreturn\u001b[0m \u001b[0mself\u001b[0m\u001b[1;33m.\u001b[0m\u001b[0m_getitem_multilevel\u001b[0m\u001b[1;33m(\u001b[0m\u001b[0mkey\u001b[0m\u001b[1;33m)\u001b[0m\u001b[1;33m\u001b[0m\u001b[1;33m\u001b[0m\u001b[0m\n\u001b[1;32m-> 2927\u001b[1;33m             \u001b[0mindexer\u001b[0m \u001b[1;33m=\u001b[0m \u001b[0mself\u001b[0m\u001b[1;33m.\u001b[0m\u001b[0mcolumns\u001b[0m\u001b[1;33m.\u001b[0m\u001b[0mget_loc\u001b[0m\u001b[1;33m(\u001b[0m\u001b[0mkey\u001b[0m\u001b[1;33m)\u001b[0m\u001b[1;33m\u001b[0m\u001b[1;33m\u001b[0m\u001b[0m\n\u001b[0m\u001b[0;32m   2928\u001b[0m             \u001b[1;32mif\u001b[0m \u001b[0mis_integer\u001b[0m\u001b[1;33m(\u001b[0m\u001b[0mindexer\u001b[0m\u001b[1;33m)\u001b[0m\u001b[1;33m:\u001b[0m\u001b[1;33m\u001b[0m\u001b[1;33m\u001b[0m\u001b[0m\n\u001b[0;32m   2929\u001b[0m                 \u001b[0mindexer\u001b[0m \u001b[1;33m=\u001b[0m \u001b[1;33m[\u001b[0m\u001b[0mindexer\u001b[0m\u001b[1;33m]\u001b[0m\u001b[1;33m\u001b[0m\u001b[1;33m\u001b[0m\u001b[0m\n",
      "\u001b[1;32m~\\Miniconda3\\lib\\site-packages\\pandas\\core\\indexes\\base.py\u001b[0m in \u001b[0;36mget_loc\u001b[1;34m(self, key, method, tolerance)\u001b[0m\n\u001b[0;32m   2655\u001b[0m                                  'backfill or nearest lookups')\n\u001b[0;32m   2656\u001b[0m             \u001b[1;32mtry\u001b[0m\u001b[1;33m:\u001b[0m\u001b[1;33m\u001b[0m\u001b[1;33m\u001b[0m\u001b[0m\n\u001b[1;32m-> 2657\u001b[1;33m                 \u001b[1;32mreturn\u001b[0m \u001b[0mself\u001b[0m\u001b[1;33m.\u001b[0m\u001b[0m_engine\u001b[0m\u001b[1;33m.\u001b[0m\u001b[0mget_loc\u001b[0m\u001b[1;33m(\u001b[0m\u001b[0mkey\u001b[0m\u001b[1;33m)\u001b[0m\u001b[1;33m\u001b[0m\u001b[1;33m\u001b[0m\u001b[0m\n\u001b[0m\u001b[0;32m   2658\u001b[0m             \u001b[1;32mexcept\u001b[0m \u001b[0mKeyError\u001b[0m\u001b[1;33m:\u001b[0m\u001b[1;33m\u001b[0m\u001b[1;33m\u001b[0m\u001b[0m\n\u001b[0;32m   2659\u001b[0m                 \u001b[1;32mreturn\u001b[0m \u001b[0mself\u001b[0m\u001b[1;33m.\u001b[0m\u001b[0m_engine\u001b[0m\u001b[1;33m.\u001b[0m\u001b[0mget_loc\u001b[0m\u001b[1;33m(\u001b[0m\u001b[0mself\u001b[0m\u001b[1;33m.\u001b[0m\u001b[0m_maybe_cast_indexer\u001b[0m\u001b[1;33m(\u001b[0m\u001b[0mkey\u001b[0m\u001b[1;33m)\u001b[0m\u001b[1;33m)\u001b[0m\u001b[1;33m\u001b[0m\u001b[1;33m\u001b[0m\u001b[0m\n",
      "\u001b[1;32mpandas/_libs/index.pyx\u001b[0m in \u001b[0;36mpandas._libs.index.IndexEngine.get_loc\u001b[1;34m()\u001b[0m\n",
      "\u001b[1;32mpandas/_libs/index.pyx\u001b[0m in \u001b[0;36mpandas._libs.index.IndexEngine.get_loc\u001b[1;34m()\u001b[0m\n",
      "\u001b[1;31mTypeError\u001b[0m: '(slice(None, None, None), 0)' is an invalid key"
     ]
    },
    {
     "data": {
      "image/png": "[encoded data removed]",
      "text/plain": [
       "<Figure size 1440x1440 with 1 Axes>"
      ]
     },
     "metadata": {
      "needs_background": "light"
     },
     "output_type": "display_data"
    }
   ],
   "source": [
    "fig = plt.figure(figsize=(20, 20))\n",
    "col_names = X_train_df.iloc[:, features].columns\n",
    "for i in range(16):\n",
    "    fig.add_subplot(5, 4, i + 1)\n",
    "    plt.hist(x_train[:, i])\n",
    "    plt.title(f\"{col_names[i]}\")"
   ]
  },
  {
   "cell_type": "code",
   "execution_count": 44,
   "metadata": {},
   "outputs": [
    {
     "name": "stdout",
     "output_type": "stream",
     "text": [
      "Unbalanced set with 0.17 of true labales\n"
     ]
    }
   ],
   "source": [
    "print(\"Unbalanced set with %.2f of true labales\" % y_train.mean())"
   ]
  },
  {
   "cell_type": "markdown",
   "metadata": {},
   "source": [
    "# Logistic Regression"
   ]
  },
  {
   "cell_type": "code",
   "execution_count": 51,
   "metadata": {},
   "outputs": [],
   "source": [
    "logregPipe = Pipeline([('logreg', LogisticRegression(random_state=123))])\n",
    "_ = logregPipe.fit(x_train, y_train)"
   ]
  },
  {
   "cell_type": "code",
   "execution_count": 52,
   "metadata": {},
   "outputs": [
    {
     "name": "stdout",
     "output_type": "stream",
     "text": [
      "f1_score on the tain set:  0.0\n",
      "f1_score on the test set:  0.0\n"
     ]
    }
   ],
   "source": [
    "print('f1_score on the tain set: ',\n",
    "      f1_score(y_train, logregPipe.predict(x_train)))\n",
    "print('f1_score on the test set: ', f1_score(y_test,\n",
    "                                             logregPipe.predict(x_test)))"
   ]
  },
  {
   "cell_type": "code",
   "execution_count": 53,
   "metadata": {},
   "outputs": [
    {
     "name": "stdout",
     "output_type": "stream",
     "text": [
      "           selected parameter\n",
      "logreg__C            0.051795\n"
     ]
    },
    {
     "data": {
      "image/png": "[encoded data removed]",
      "text/plain": [
       "<Figure size 864x432 with 1 Axes>"
      ]
     },
     "metadata": {
      "needs_background": "light"
     },
     "output_type": "display_data"
    }
   ],
   "source": [
    "param_space = np.logspace(-3, 3, 8)\n",
    "logregParam = {'logreg__C': param_space}\n",
    "logregGS = GridSearchCV(estimator=logregPipe,\n",
    "                        param_grid=logregParam,\n",
    "                        cv=5,\n",
    "                        scoring='f1').fit(x_train, y_train)\n",
    "print(\n",
    "    pd.DataFrame.from_dict(logregGS.best_params_,\n",
    "                           orient='index',\n",
    "                           columns=[\"selected parameter\"]))\n",
    "mean_test_score = logregGS.cv_results_[\"mean_test_score\"]\n",
    "std_test_score = logregGS.cv_results_[\"std_test_score\"]\n",
    "plt.figure(figsize=(12, 6))\n",
    "plt.errorbar(param_space, mean_test_score, std_test_score, fmt='ok', lw=3)\n",
    "plt.xscale('log')"
   ]
  },
  {
   "cell_type": "code",
   "execution_count": 54,
   "metadata": {},
   "outputs": [
    {
     "data": {
      "image/png": "[encoded data removed]",
      "text/plain": [
       "<Figure size 432x288 with 1 Axes>"
      ]
     },
     "metadata": {
      "needs_background": "light"
     },
     "output_type": "display_data"
    }
   ],
   "source": [
    "def roc_curve_plot(clf, x_train, y_train, x_test, y_test):\n",
    "    fpr = dict()\n",
    "    tpr = dict()\n",
    "    roc_auc = dict()\n",
    "\n",
    "    y_score = clf.fit(x_train, y_train).decision_function(x_test)\n",
    "\n",
    "    fpr, tpr, _ = roc_curve(y_test, y_score)\n",
    "    roc_auc = auc(fpr, tpr)\n",
    "\n",
    "    plt.figure()\n",
    "    lw = 2\n",
    "    plt.plot(fpr,\n",
    "             tpr,\n",
    "             color='darkorange',\n",
    "             lw=lw,\n",
    "             label='ROC curve (area = %0.2f)' % roc_auc)\n",
    "    plt.plot([0, 1], [0, 1], color='navy', lw=lw, linestyle='--')\n",
    "    plt.xlim([0.0, 1.0])\n",
    "    plt.ylim([0.0, 1.05])\n",
    "    plt.xlabel('False Positive Rate')\n",
    "    plt.ylabel('True Positive Rate')\n",
    "    plt.title('Receiver operating characteristic example')\n",
    "    plt.legend(loc=\"lower right\")\n",
    "    plt.show()\n",
    "\n",
    "\n",
    "roc_curve_plot(logregGS, x_train, y_train, x_test, y_test)"
   ]
  },
  {
   "cell_type": "code",
   "execution_count": 55,
   "metadata": {},
   "outputs": [
    {
     "name": "stdout",
     "output_type": "stream",
     "text": [
      "f1_score on the test set:  0.0\n",
      "f1_score on the train set:  0.0\n"
     ]
    }
   ],
   "source": [
    "print(\"f1_score on the test set: \", f1_score(y_train,\n",
    "                                             logregGS.predict(x_train)))\n",
    "print(\"f1_score on the train set: \", f1_score(y_test,\n",
    "                                              logregGS.predict(x_test)))"
   ]
  },
  {
   "cell_type": "code",
   "execution_count": 56,
   "metadata": {},
   "outputs": [
    {
     "data": {
      "text/html": [
       "<div>\n",
       "<style scoped>\n",
       "    .dataframe tbody tr th:only-of-type {\n",
       "        vertical-align: middle;\n",
       "    }\n",
       "\n",
       "    .dataframe tbody tr th {\n",
       "        vertical-align: top;\n",
       "    }\n",
       "\n",
       "    .dataframe thead th {\n",
       "        text-align: right;\n",
       "    }\n",
       "</style>\n",
       "<table border=\"1\" class=\"dataframe\">\n",
       "  <thead>\n",
       "    <tr style=\"text-align: right;\">\n",
       "      <th></th>\n",
       "      <th>Predicted 0</th>\n",
       "      <th>Predicted 1</th>\n",
       "    </tr>\n",
       "  </thead>\n",
       "  <tbody>\n",
       "    <tr>\n",
       "      <th>Actual 0</th>\n",
       "      <td>34269</td>\n",
       "      <td>1</td>\n",
       "    </tr>\n",
       "    <tr>\n",
       "      <th>Actual 1</th>\n",
       "      <td>7010</td>\n",
       "      <td>0</td>\n",
       "    </tr>\n",
       "  </tbody>\n",
       "</table>\n",
       "</div>"
      ],
      "text/plain": [
       "          Predicted 0  Predicted 1\n",
       "Actual 0        34269            1\n",
       "Actual 1         7010            0"
      ]
     },
     "execution_count": 56,
     "metadata": {},
     "output_type": "execute_result"
    }
   ],
   "source": [
    "logregGS_confMatrix = pd.DataFrame(confusion_matrix(y_test, logregGS.predict(x_test)), columns=['Predicted 0', 'Predicted 1'],\\\n",
    "                                index=['Actual 0', 'Actual 1'])\n",
    "logregGS_confMatrix"
   ]
  },
  {
   "cell_type": "markdown",
   "metadata": {},
   "source": [
    "# KNeighborsClassifier"
   ]
  },
  {
   "cell_type": "code",
   "execution_count": 38,
   "metadata": {},
   "outputs": [],
   "source": [
    "knnPipe = Pipeline([\n",
    "    ('scaler', StandardScaler()),\n",
    "    ('knn', KNeighborsClassifier(n_jobs=-1)),\n",
    "])\n",
    "knnParam = {\n",
    "    'knn__n_neighbors': range(1, 12),\n",
    "    'knn__weights': ['uniform', 'distance'],\n",
    "}\n",
    "_ = knnPipe.fit(x_train, y_train)"
   ]
  },
  {
   "cell_type": "code",
   "execution_count": 41,
   "metadata": {},
   "outputs": [
    {
     "name": "stdout",
     "output_type": "stream",
     "text": [
      "f1_score on the train set:  0.06611570247933884\n",
      "f1_score on the test set:  0.02777777777777778\n"
     ]
    }
   ],
   "source": [
    "print('f1_score on the train set: ', f1_score(y_train,\n",
    "                                              knnPipe.predict(x_train)))\n",
    "print('f1_score on the test set: ', f1_score(y_test, knnPipe.predict(x_test)))"
   ]
  },
  {
   "cell_type": "code",
   "execution_count": 42,
   "metadata": {},
   "outputs": [
    {
     "name": "stdout",
     "output_type": "stream",
     "text": [
      "                 selected parameter\n",
      "knn__n_neighbors                  1\n",
      "knn__weights                uniform\n"
     ]
    },
    {
     "data": {
      "image/png": "[encoded data removed]",
      "text/plain": [
       "<Figure size 720x360 with 1 Axes>"
      ]
     },
     "metadata": {
      "needs_background": "light"
     },
     "output_type": "display_data"
    }
   ],
   "source": [
    "knnGS = GridSearchCV(knnPipe, param_grid=knnParam, n_jobs=-1, scoring='f1')\n",
    "_ = knnGS.fit(x_train, y_train)\n",
    "print(\n",
    "    pd.DataFrame.from_dict(knnGS.best_params_,\n",
    "                           orient='index',\n",
    "                           columns=[\"selected parameter\"]))\n",
    "mean_test_score = knnGS.cv_results_[\"mean_test_score\"]\n",
    "std_test_score = knnGS.cv_results_[\"std_test_score\"]\n",
    "plt.figure(figsize=(10, 5))\n",
    "_ = plt.errorbar(np.arange(mean_test_score.shape[0]),\n",
    "                 mean_test_score,\n",
    "                 std_test_score,\n",
    "                 fmt='ok',\n",
    "                 lw=3)"
   ]
  },
  {
   "cell_type": "code",
   "execution_count": 43,
   "metadata": {},
   "outputs": [
    {
     "name": "stdout",
     "output_type": "stream",
     "text": [
      "f1_score on the train set:  1.0\n",
      "f1_score on the test set: 0.1021897810218978\n"
     ]
    }
   ],
   "source": [
    "print(\"f1_score on the train set: \", f1_score(y_train, knnGS.predict(x_train)))\n",
    "print(\"f1_score on the test set:\", f1_score(y_test, knnGS.predict(x_test)))"
   ]
  },
  {
   "cell_type": "code",
   "execution_count": 44,
   "metadata": {},
   "outputs": [
    {
     "data": {
      "text/html": [
       "<div>\n",
       "<style scoped>\n",
       "    .dataframe tbody tr th:only-of-type {\n",
       "        vertical-align: middle;\n",
       "    }\n",
       "\n",
       "    .dataframe tbody tr th {\n",
       "        vertical-align: top;\n",
       "    }\n",
       "\n",
       "    .dataframe thead th {\n",
       "        text-align: right;\n",
       "    }\n",
       "</style>\n",
       "<table border=\"1\" class=\"dataframe\">\n",
       "  <thead>\n",
       "    <tr style=\"text-align: right;\">\n",
       "      <th></th>\n",
       "      <th>Predicted 0</th>\n",
       "      <th>Predicted 1</th>\n",
       "    </tr>\n",
       "  </thead>\n",
       "  <tbody>\n",
       "    <tr>\n",
       "      <th>Actual 0</th>\n",
       "      <td>370</td>\n",
       "      <td>69</td>\n",
       "    </tr>\n",
       "    <tr>\n",
       "      <th>Actual 1</th>\n",
       "      <td>54</td>\n",
       "      <td>7</td>\n",
       "    </tr>\n",
       "  </tbody>\n",
       "</table>\n",
       "</div>"
      ],
      "text/plain": [
       "          Predicted 0  Predicted 1\n",
       "Actual 0          370           69\n",
       "Actual 1           54            7"
      ]
     },
     "execution_count": 44,
     "metadata": {},
     "output_type": "execute_result"
    }
   ],
   "source": [
    "knnGS_confMatrix = pd.DataFrame(confusion_matrix(y_test, knnGS.predict(x_test)), \\\n",
    "                                columns=['Predicted 0', 'Predicted 1'], \\\n",
    "                                index=['Actual 0', 'Actual 1'])\n",
    "knnGS_confMatrix"
   ]
  },
  {
   "cell_type": "markdown",
   "metadata": {},
   "source": [
    "# DecisionTree Classifier"
   ]
  },
  {
   "cell_type": "code",
   "execution_count": 18,
   "metadata": {},
   "outputs": [],
   "source": [
    "dectreePipe = Pipeline([('scaler', StandardScaler()),\n",
    "                        ('dectree', DecisionTreeClassifier(random_state=123))])\n",
    "dectreeParam = {\n",
    "    'dectree__criterion': ['entropy'],\n",
    "    'dectree__class_weight': ['balanced'],\n",
    "    'dectree__max_depth': range(1, 7),\n",
    "}"
   ]
  },
  {
   "cell_type": "code",
   "execution_count": 19,
   "metadata": {},
   "outputs": [
    {
     "name": "stdout",
     "output_type": "stream",
     "text": [
      "                      selected parameter\n",
      "dectree__class_weight           balanced\n",
      "dectree__criterion               entropy\n",
      "dectree__max_depth                     3\n"
     ]
    },
    {
     "data": {
      "text/plain": [
       "<ErrorbarContainer object of 3 artists>"
      ]
     },
     "execution_count": 19,
     "metadata": {},
     "output_type": "execute_result"
    },
    {
     "data": {
      "image/png": "[encoded data removed]",
      "text/plain": [
       "<Figure size 288x144 with 1 Axes>"
      ]
     },
     "metadata": {
      "needs_background": "light"
     },
     "output_type": "display_data"
    }
   ],
   "source": [
    "dectreeGS = GridSearchCV(dectreePipe,\n",
    "                         param_grid=dectreeParam,\n",
    "                         cv=5,\n",
    "                         scoring='f1')\n",
    "_ = dectreeGS.fit(x_train, y_train)\n",
    "print(\n",
    "    pd.DataFrame.from_dict(dectreeGS.best_params_,\n",
    "                           orient='index',\n",
    "                           columns=[\"selected parameter\"]))\n",
    "mean_test_score = dectreeGS.cv_results_[\"mean_test_score\"]\n",
    "std_test_score = dectreeGS.cv_results_[\"std_test_score\"]\n",
    "plt.figure(figsize=(4, 2))\n",
    "plt.errorbar(np.arange(mean_test_score.shape[0]),\n",
    "             mean_test_score,\n",
    "             std_test_score,\n",
    "             fmt='ok')"
   ]
  },
  {
   "cell_type": "code",
   "execution_count": 20,
   "metadata": {},
   "outputs": [
    {
     "name": "stdout",
     "output_type": "stream",
     "text": [
      "f1_score on the train set:  0.29786029203575615\n",
      "f1_score on the test set: 0.2920367870931291\n"
     ]
    }
   ],
   "source": [
    "print(\"f1_score on the train set: \",\n",
    "      f1_score(y_train, dectreeGS.predict(x_train)))\n",
    "print(\"f1_score on the test set:\", f1_score(y_test, dectreeGS.predict(x_test)))"
   ]
  },
  {
   "cell_type": "code",
   "execution_count": 21,
   "metadata": {
    "scrolled": true
   },
   "outputs": [
    {
     "data": {
      "text/html": [
       "<div>\n",
       "<style scoped>\n",
       "    .dataframe tbody tr th:only-of-type {\n",
       "        vertical-align: middle;\n",
       "    }\n",
       "\n",
       "    .dataframe tbody tr th {\n",
       "        vertical-align: top;\n",
       "    }\n",
       "\n",
       "    .dataframe thead th {\n",
       "        text-align: right;\n",
       "    }\n",
       "</style>\n",
       "<table border=\"1\" class=\"dataframe\">\n",
       "  <thead>\n",
       "    <tr style=\"text-align: right;\">\n",
       "      <th></th>\n",
       "      <th>Predicted -1</th>\n",
       "      <th>Predicted 1</th>\n",
       "    </tr>\n",
       "  </thead>\n",
       "  <tbody>\n",
       "    <tr>\n",
       "      <th>Actual 0</th>\n",
       "      <td>14073</td>\n",
       "      <td>20092</td>\n",
       "    </tr>\n",
       "    <tr>\n",
       "      <th>Actual 1</th>\n",
       "      <td>2463</td>\n",
       "      <td>4652</td>\n",
       "    </tr>\n",
       "  </tbody>\n",
       "</table>\n",
       "</div>"
      ],
      "text/plain": [
       "          Predicted -1  Predicted 1\n",
       "Actual 0         14073        20092\n",
       "Actual 1          2463         4652"
      ]
     },
     "execution_count": 21,
     "metadata": {},
     "output_type": "execute_result"
    }
   ],
   "source": [
    "pd.DataFrame(confusion_matrix(y_test, dectreeGS.predict(x_test)),\n",
    "             columns=['Predicted -1', 'Predicted 1'],\n",
    "             index=['Actual 0', 'Actual 1'])"
   ]
  },
  {
   "cell_type": "markdown",
   "metadata": {},
   "source": [
    "# Random Forest"
   ]
  },
  {
   "cell_type": "code",
   "execution_count": 94,
   "metadata": {
    "code_folding": []
   },
   "outputs": [],
   "source": [
    "class_weight = dict({0.0: 9, 1.0: 1})\n",
    "randtreePipe = Pipeline([('scaler', StandardScaler()),\n",
    "                         ('randtree',\n",
    "                          RandomForestClassifier(random_state=123,\n",
    "                                                 n_estimators=100,\n",
    "                                                 max_depth=15,\n",
    "                                                 class_weight=None))])\n",
    "\n",
    "randtreeParam = {\n",
    "    'randtree__bootstrap': [True],\n",
    "    'randtree__max_depth': [20],\n",
    "    'randtree__max_features': ['auto', 'sqrt'],\n",
    "    'randtree__min_samples_leaf': [1, 2, 4],\n",
    "    'randtree__min_samples_split': [2, 5, 10],\n",
    "}\n",
    "\n",
    "# randtree__bootstrap                       True\n",
    "# randtree__max_depth                         20\n",
    "# randtree__max_features                    auto\n",
    "# randtree__min_samples_leaf                   1\n",
    "# randtree__min_samples_split                  2"
   ]
  },
  {
   "cell_type": "code",
   "execution_count": 95,
   "metadata": {
    "scrolled": false
   },
   "outputs": [
    {
     "name": "stdout",
     "output_type": "stream",
     "text": [
      "                            selected parameter\n",
      "randtree__bootstrap                       True\n",
      "randtree__max_depth                         20\n",
      "randtree__max_features                    auto\n",
      "randtree__min_samples_leaf                   1\n",
      "randtree__min_samples_split                  2\n"
     ]
    },
    {
     "data": {
      "text/plain": [
       "<ErrorbarContainer object of 3 artists>"
      ]
     },
     "execution_count": 95,
     "metadata": {},
     "output_type": "execute_result"
    },
    {
     "data": {
      "image/png": "[encoded data removed]",
      "text/plain": [
       "<Figure size 360x288 with 1 Axes>"
      ]
     },
     "metadata": {
      "needs_background": "light"
     },
     "output_type": "display_data"
    }
   ],
   "source": [
    "randtreeGS = GridSearchCV(randtreePipe,\n",
    "                          param_grid=randtreeParam,\n",
    "                          cv=5,\n",
    "                          scoring='f1')\n",
    "randtreeGS.fit(x_train, y_train)\n",
    "mean_test_score = randtreeGS.cv_results_[\"mean_test_score\"]\n",
    "\n",
    "std_test_score = randtreeGS.cv_results_[\"std_test_score\"]\n",
    "\n",
    "print(\n",
    "    pd.DataFrame.from_dict(randtreeGS.best_params_,\n",
    "                           orient='index',\n",
    "                           columns=[\"selected parameter\"]))\n",
    "\n",
    "# pd.DataFrame(randtreeGS.cv_results_).sort_values(by='rank_test_score')[:5][[\n",
    "#     'rank_test_score', 'param_randtree__max_depth', 'mean_test_score',\n",
    "#     'std_test_score'\n",
    "# ]].T\n",
    "\n",
    "plt.figure(figsize=(5, 4))\n",
    "plt.errorbar(np.arange(mean_test_score.shape[0]),\n",
    "             mean_test_score,\n",
    "             std_test_score,\n",
    "             fmt='ok')"
   ]
  },
  {
   "cell_type": "code",
   "execution_count": 96,
   "metadata": {},
   "outputs": [
    {
     "name": "stdout",
     "output_type": "stream",
     "text": [
      "f1_score on the train set:  0.9699769053117783\n",
      "f1_score on the test set: 0.0\n"
     ]
    }
   ],
   "source": [
    "print(\"f1_score on the train set: \",\n",
    "      f1_score(y_train, randtreeGS.predict(x_train)))\n",
    "print(\"f1_score on the test set:\", f1_score(y_test,\n",
    "                                            randtreeGS.predict(x_test)))"
   ]
  },
  {
   "cell_type": "code",
   "execution_count": 97,
   "metadata": {},
   "outputs": [
    {
     "data": {
      "text/html": [
       "<div>\n",
       "<style scoped>\n",
       "    .dataframe tbody tr th:only-of-type {\n",
       "        vertical-align: middle;\n",
       "    }\n",
       "\n",
       "    .dataframe tbody tr th {\n",
       "        vertical-align: top;\n",
       "    }\n",
       "\n",
       "    .dataframe thead th {\n",
       "        text-align: right;\n",
       "    }\n",
       "</style>\n",
       "<table border=\"1\" class=\"dataframe\">\n",
       "  <thead>\n",
       "    <tr style=\"text-align: right;\">\n",
       "      <th></th>\n",
       "      <th>Predicted 0</th>\n",
       "      <th>Predicted 1</th>\n",
       "    </tr>\n",
       "  </thead>\n",
       "  <tbody>\n",
       "    <tr>\n",
       "      <th>Actual 0</th>\n",
       "      <td>439</td>\n",
       "      <td>0</td>\n",
       "    </tr>\n",
       "    <tr>\n",
       "      <th>Actual 1</th>\n",
       "      <td>61</td>\n",
       "      <td>0</td>\n",
       "    </tr>\n",
       "  </tbody>\n",
       "</table>\n",
       "</div>"
      ],
      "text/plain": [
       "          Predicted 0  Predicted 1\n",
       "Actual 0          439            0\n",
       "Actual 1           61            0"
      ]
     },
     "execution_count": 97,
     "metadata": {},
     "output_type": "execute_result"
    }
   ],
   "source": [
    "randtreeGS_confMatrix = pd.DataFrame(confusion_matrix(y_test, randtreeGS.predict(x_test)), columns=['Predicted 0', \\\n",
    "                                                                                               'Predicted 1'],\\\n",
    "                                   index=['Actual 0', 'Actual 1'])\n",
    "randtreeGS_confMatrix"
   ]
  },
  {
   "cell_type": "markdown",
   "metadata": {},
   "source": [
    "# XGBoost"
   ]
  },
  {
   "cell_type": "code",
   "execution_count": 102,
   "metadata": {},
   "outputs": [
    {
     "data": {
      "image/png": "[encoded data removed]",
      "text/plain": [
       "<Figure size 432x288 with 1 Axes>"
      ]
     },
     "metadata": {
      "needs_background": "light"
     },
     "output_type": "display_data"
    },
    {
     "data": {
      "image/png": "[encoded data removed]",
      "text/plain": [
       "<Figure size 432x288 with 1 Axes>"
      ]
     },
     "metadata": {
      "needs_background": "light"
     },
     "output_type": "display_data"
    },
    {
     "data": {
      "image/png": "[encoded data removed]",
      "text/plain": [
       "<Figure size 432x288 with 1 Axes>"
      ]
     },
     "metadata": {
      "needs_background": "light"
     },
     "output_type": "display_data"
    },
    {
     "data": {
      "image/png": "[encoded data removed]",
      "text/plain": [
       "<Figure size 432x288 with 1 Axes>"
      ]
     },
     "metadata": {
      "needs_background": "light"
     },
     "output_type": "display_data"
    }
   ],
   "source": [
    "from xgboost import XGBClassifier\n",
    "xgb = XGBClassifier(learning_rate=1.5)\n",
    "eval_set = [(x_train, y_train), (x_test, y_test)]\n",
    "xgb.fit(x_train,\n",
    "        y_train,\n",
    "        eval_metric=[\"error\", \"logloss\", \"auc\", \"rmse\"],\n",
    "        eval_set=eval_set,\n",
    "        verbose=False)\n",
    "pd.DataFrame(confusion_matrix(y_test, xgb.predict(x_test)),\n",
    "             columns=['Predicted 0', 'Predicted 1'],\n",
    "             index=['Actual 0', 'Actual 1'])\n",
    "\n",
    "results = xgb.evals_result()\n",
    "epochs = len(results['validation_0']['error'])\n",
    "x_axis = range(0, epochs)\n",
    "# plot log loss\n",
    "fig, ax = plt.subplots()\n",
    "ax.plot(x_axis, results['validation_0']['logloss'], label='Train')\n",
    "ax.plot(x_axis, results['validation_1']['logloss'], label='Test')\n",
    "ax.legend()\n",
    "plt.ylabel('Log Loss')\n",
    "plt.title('XGBoost Log Loss')\n",
    "plt.show()\n",
    "# plot classification error\n",
    "fig, ax = plt.subplots()\n",
    "ax.plot(x_axis, results['validation_0']['error'], label='Train')\n",
    "ax.plot(x_axis, results['validation_1']['error'], label='Test')\n",
    "ax.legend()\n",
    "plt.ylabel('Classification Error')\n",
    "plt.title('XGBoost Classification Error')\n",
    "plt.show()\n",
    "# plot classification error\n",
    "fig, ax = plt.subplots()\n",
    "ax.plot(x_axis, results['validation_0']['auc'], label='Train')\n",
    "ax.plot(x_axis, results['validation_1']['auc'], label='Test')\n",
    "ax.legend()\n",
    "plt.ylabel('auc')\n",
    "plt.title('XGBoost auc')\n",
    "plt.show()\n",
    "# plot classification error\n",
    "fig, ax = plt.subplots()\n",
    "ax.plot(x_axis, results['validation_0']['error'], label='Train')\n",
    "ax.plot(x_axis, results['validation_1']['error'], label='Test')\n",
    "ax.legend()\n",
    "plt.ylabel('rmse')\n",
    "plt.title('XGBoost rmse')\n",
    "plt.show()"
   ]
  },
  {
   "cell_type": "code",
   "execution_count": 103,
   "metadata": {},
   "outputs": [
    {
     "data": {
      "text/html": [
       "<div>\n",
       "<style scoped>\n",
       "    .dataframe tbody tr th:only-of-type {\n",
       "        vertical-align: middle;\n",
       "    }\n",
       "\n",
       "    .dataframe tbody tr th {\n",
       "        vertical-align: top;\n",
       "    }\n",
       "\n",
       "    .dataframe thead th {\n",
       "        text-align: right;\n",
       "    }\n",
       "</style>\n",
       "<table border=\"1\" class=\"dataframe\">\n",
       "  <thead>\n",
       "    <tr style=\"text-align: right;\">\n",
       "      <th></th>\n",
       "      <th>Predicted 0</th>\n",
       "      <th>Predicted 1</th>\n",
       "    </tr>\n",
       "  </thead>\n",
       "  <tbody>\n",
       "    <tr>\n",
       "      <th>Actual 0</th>\n",
       "      <td>380</td>\n",
       "      <td>59</td>\n",
       "    </tr>\n",
       "    <tr>\n",
       "      <th>Actual 1</th>\n",
       "      <td>58</td>\n",
       "      <td>3</td>\n",
       "    </tr>\n",
       "  </tbody>\n",
       "</table>\n",
       "</div>"
      ],
      "text/plain": [
       "          Predicted 0  Predicted 1\n",
       "Actual 0          380           59\n",
       "Actual 1           58            3"
      ]
     },
     "execution_count": 103,
     "metadata": {},
     "output_type": "execute_result"
    }
   ],
   "source": [
    "confMatrix = pd.DataFrame(confusion_matrix(y_test, xgb.predict(x_test)),\n",
    "                          columns=['Predicted 0', 'Predicted 1'],\n",
    "                          index=['Actual 0', 'Actual 1'])\n",
    "confMatrix"
   ]
  },
  {
   "cell_type": "code",
   "execution_count": 107,
   "metadata": {
    "scrolled": true
   },
   "outputs": [
    {
     "name": "stdout",
     "output_type": "stream",
     "text": [
      "F1-score =  [0.12820513 0.19444444 0.15789474 0.10810811 0.18666667]  Mean F1 score =  0.15506381685329054\n"
     ]
    }
   ],
   "source": [
    "f1_scores = cross_val_score(xgb, x_train, y_train, cv=5, scoring='f1')\n",
    "print(\"F1-score = \", f1_scores, \" Mean F1 score = \", np.mean(f1_scores))"
   ]
  },
  {
   "cell_type": "code",
   "execution_count": 114,
   "metadata": {},
   "outputs": [
    {
     "data": {
      "text/plain": [
       "0.04878048780487805"
      ]
     },
     "execution_count": 114,
     "metadata": {},
     "output_type": "execute_result"
    }
   ],
   "source": [
    "def xg_f1(t, y):\n",
    "    #     t = t.get_label()\n",
    "    y_bin = [1. if y_cont > 0.5 else 0.\n",
    "             for y_cont in y]  # binaryzing your output\n",
    "    return f1_score(t, y_bin)\n",
    "\n",
    "\n",
    "xg_f1(y_test, xgb.predict(x_test))"
   ]
  },
  {
   "cell_type": "code",
   "execution_count": 116,
   "metadata": {},
   "outputs": [
    {
     "name": "stdout",
     "output_type": "stream",
     "text": [
      "Logistic Regression\n",
      "f1_score on the train set:  0.02654867256637168\n",
      "f1_score on the test set:  0.0\n",
      "\n",
      "K-Neighbors Classifier\n",
      "f1_score on the train set:  1.0\n",
      "f1_score on the test set: 0.1021897810218978\n",
      "\n",
      "Decision Tree Classifier\n",
      "f1_score on the train set:  0.2913907284768212\n",
      "f1_score on the test set:  0.27927927927927926\n",
      "\n",
      "RandomForestClassifier\n",
      "f1_score on the train set 0.9699769053117783\n",
      "f1_score on the test set 0.0\n",
      "\n",
      "XGBoost\n",
      "f1_score on the train set 1.0\n",
      "f1_score on the test set 0.04878048780487805\n"
     ]
    }
   ],
   "source": [
    "print(\"Logistic Regression\")\n",
    "print(\"f1_score on the train set: \", logregGS.score(x_train, y_train))\n",
    "print(\"f1_score on the test set: \", logregGS.score(x_test, y_test))\n",
    "\n",
    "print(\"\\nK-Neighbors Classifier\")\n",
    "print(\"f1_score on the train set: \", knnGS.score(x_train, y_train))\n",
    "print(\"f1_score on the test set:\", knnGS.score(x_test, y_test))\n",
    "\n",
    "print(\"\\nDecision Tree Classifier\")\n",
    "print('f1_score on the train set: ', dectreeGS.score(x_train, y_train))\n",
    "print('f1_score on the test set: ', dectreeGS.score(x_test, y_test))\n",
    "\n",
    "print(\"\\nRandomForestClassifier\")\n",
    "print(\"f1_score on the train set\", randtreeGS.score(x_train, y_train))\n",
    "print(\"f1_score on the test set\", randtreeGS.score(x_test, y_test))\n",
    "\n",
    "print(\"\\nXGBoost\")\n",
    "print(\"f1_score on the train set\", xg_f1(y_train, xgb.predict(x_train)))\n",
    "print(\"f1_score on the test set\", xg_f1(y_test, xgb.predict(x_test)))"
   ]
  },
  {
   "cell_type": "markdown",
   "metadata": {},
   "source": [
    "# Testing DTC with PCA"
   ]
  },
  {
   "cell_type": "code",
   "execution_count": 55,
   "metadata": {},
   "outputs": [
    {
     "name": "stdout",
     "output_type": "stream",
     "text": [
      "68\n"
     ]
    }
   ],
   "source": [
    "x_train, x_test, y_train, y_test, x_true_test = pca_decomp(\n",
    "    X_train, Y_train, X_true_test)"
   ]
  },
  {
   "cell_type": "code",
   "execution_count": 56,
   "metadata": {},
   "outputs": [],
   "source": [
    "dectreePipe = Pipeline([('scaler', StandardScaler()),\n",
    "                        ('dectree', DecisionTreeClassifier(random_state=123))])\n",
    "dectreeParam = {\n",
    "    'dectree__criterion': ['entropy'],\n",
    "    'dectree__class_weight': ['balanced'],\n",
    "    'dectree__max_depth': range(1, 7),\n",
    "}\n",
    "# _ = dectreePipe.fit(x_train, y_train)"
   ]
  },
  {
   "cell_type": "code",
   "execution_count": 57,
   "metadata": {},
   "outputs": [
    {
     "name": "stdout",
     "output_type": "stream",
     "text": [
      "                      selected parameter\n",
      "dectree__class_weight           balanced\n",
      "dectree__criterion               entropy\n",
      "dectree__max_depth                     5\n"
     ]
    },
    {
     "data": {
      "text/plain": [
       "<ErrorbarContainer object of 3 artists>"
      ]
     },
     "execution_count": 57,
     "metadata": {},
     "output_type": "execute_result"
    },
    {
     "data": {
      "image/png": "[encoded data removed]",
      "text/plain": [
       "<Figure size 288x144 with 1 Axes>"
      ]
     },
     "metadata": {
      "needs_background": "light"
     },
     "output_type": "display_data"
    }
   ],
   "source": [
    "dectreeGS = GridSearchCV(dectreePipe,\n",
    "                         param_grid=dectreeParam,\n",
    "                         cv=5,\n",
    "                         scoring='f1')\n",
    "_ = dectreeGS.fit(x_train, y_train)\n",
    "print(\n",
    "    pd.DataFrame.from_dict(dectreeGS.best_params_,\n",
    "                           orient='index',\n",
    "                           columns=[\"selected parameter\"]))\n",
    "mean_test_score = dectreeGS.cv_results_[\"mean_test_score\"]\n",
    "std_test_score = dectreeGS.cv_results_[\"std_test_score\"]\n",
    "plt.figure(figsize=(4, 2))\n",
    "plt.errorbar(np.arange(mean_test_score.shape[0]),\n",
    "             mean_test_score,\n",
    "             std_test_score,\n",
    "             fmt='ok')"
   ]
  },
  {
   "cell_type": "code",
   "execution_count": 58,
   "metadata": {},
   "outputs": [
    {
     "name": "stdout",
     "output_type": "stream",
     "text": [
      "f1_score on the train set:  0.31313708999158957\n",
      "f1_score on the test set: 0.3080059593821062\n"
     ]
    }
   ],
   "source": [
    "print(\"f1_score on the train set: \",\n",
    "      f1_score(y_train, dectreeGS.predict(x_train)))\n",
    "print(\"f1_score on the test set:\", f1_score(y_test, dectreeGS.predict(x_test)))"
   ]
  },
  {
   "cell_type": "code",
   "execution_count": 59,
   "metadata": {
    "scrolled": true
   },
   "outputs": [
    {
     "data": {
      "text/html": [
       "<div>\n",
       "<style scoped>\n",
       "    .dataframe tbody tr th:only-of-type {\n",
       "        vertical-align: middle;\n",
       "    }\n",
       "\n",
       "    .dataframe tbody tr th {\n",
       "        vertical-align: top;\n",
       "    }\n",
       "\n",
       "    .dataframe thead th {\n",
       "        text-align: right;\n",
       "    }\n",
       "</style>\n",
       "<table border=\"1\" class=\"dataframe\">\n",
       "  <thead>\n",
       "    <tr style=\"text-align: right;\">\n",
       "      <th></th>\n",
       "      <th>Predicted -1</th>\n",
       "      <th>Predicted 1</th>\n",
       "    </tr>\n",
       "  </thead>\n",
       "  <tbody>\n",
       "    <tr>\n",
       "      <th>Actual 0</th>\n",
       "      <td>19702</td>\n",
       "      <td>14515</td>\n",
       "    </tr>\n",
       "    <tr>\n",
       "      <th>Actual 1</th>\n",
       "      <td>3135</td>\n",
       "      <td>3928</td>\n",
       "    </tr>\n",
       "  </tbody>\n",
       "</table>\n",
       "</div>"
      ],
      "text/plain": [
       "          Predicted -1  Predicted 1\n",
       "Actual 0         19702        14515\n",
       "Actual 1          3135         3928"
      ]
     },
     "execution_count": 59,
     "metadata": {},
     "output_type": "execute_result"
    }
   ],
   "source": [
    "pd.DataFrame(confusion_matrix(y_test, dectreeGS.predict(x_test)),\n",
    "             columns=['Predicted -1', 'Predicted 1'],\n",
    "             index=['Actual 0', 'Actual 1'])"
   ]
  },
  {
   "cell_type": "markdown",
   "metadata": {},
   "source": [
    "# Testing DTC with feature selection"
   ]
  },
  {
   "cell_type": "code",
   "execution_count": 62,
   "metadata": {
    "scrolled": true
   },
   "outputs": [
    {
     "name": "stdout",
     "output_type": "stream",
     "text": [
      "\n",
      "Decision Tree Clasifier\n",
      "\t features_KNR 68\n",
      "\t\tCV f1 on the train set:  31.04 %\n",
      "\t\tCV f1 on the test set: 30.75 %\n",
      "\t features_DTR 71\n",
      "\t\tCV f1 on the train set:  30.81 %\n",
      "\t\tCV f1 on the test set: 31.2 %\n",
      "\t features_boruta 16\n",
      "\t\tCV f1 on the train set:  34.59 %\n",
      "\t\tCV f1 on the test set: 33.8 %\n",
      "\t all 103\n",
      "\t\tCV f1 on the train set:  34.19 %\n",
      "\t\tCV f1 on the test set: 34.17 %\n"
     ]
    }
   ],
   "source": [
    "print(\"\\nDecision Tree Clasifier\")\n",
    "for features_name, features in {\n",
    "        'features_KNR': features_KNR,\n",
    "        'features_DTR': features_DTR,\n",
    "        'features_boruta': features_boruta,\n",
    "        'all': features_all\n",
    "}.items():\n",
    "    print(\"\\t\", features_name, len(features))\n",
    "    x_sel = X_train_df.iloc[:, features]\n",
    "    x_val_sel = X_train_df.iloc[:, features]\n",
    "    x_train, x_test, y_train, y_test = train_test_split(x_sel,\n",
    "                                                        Y_train,\n",
    "                                                        test_size=0.25)\n",
    "\n",
    "    dectreePipe = Pipeline([('scaler', StandardScaler()),\n",
    "                            ('dectree',\n",
    "                             DecisionTreeClassifier(random_state=123,\n",
    "                                                    class_weight='balanced',\n",
    "                                                    criterion='entropy'))])\n",
    "    dectreeParam = {\n",
    "        'dectree__max_depth': range(1, 20),\n",
    "    }\n",
    "    dectreeGS = GridSearchCV(dectreePipe,\n",
    "                             param_grid=dectreeParam,\n",
    "                             cv=5,\n",
    "                             scoring=\"f1\")\n",
    "    _ = dectreeGS.fit(x_train, y_train)\n",
    "\n",
    "    skf = StratifiedKFold(n_splits=5, shuffle=True)\n",
    "    skf.get_n_splits(x_train, y_train)\n",
    "\n",
    "    cv_train = cross_val_score(dectreeGS,\n",
    "                               x_train,\n",
    "                               y_train,\n",
    "                               cv=skf,\n",
    "                               scoring=\"f1\")\n",
    "    cv_test = cross_val_score(dectreeGS, x_test, y_test, cv=skf, scoring=\"f1\")\n",
    "\n",
    "    print(\"\\t\\tCV f1 on the train set: \", (cv_train.mean() * 100).round(2),\"%\")\n",
    "    print(\"\\t\\tCV f1 on the test set:\", (cv_test.mean() * 100).round(2), \"%\")"
   ]
  },
  {
   "cell_type": "markdown",
   "metadata": {},
   "source": [
    "# Final Result"
   ]
  },
  {
   "cell_type": "markdown",
   "metadata": {},
   "source": [
    "As a result none of our feature selection technique performed better than whole features set."
   ]
  },
  {
   "cell_type": "markdown",
   "metadata": {},
   "source": [
    "# Final Training"
   ]
  },
  {
   "cell_type": "code",
   "execution_count": 83,
   "metadata": {},
   "outputs": [
    {
     "name": "stdout",
     "output_type": "stream",
     "text": [
      "All features 103\n",
      "(137599, 103)\n",
      "(129950, 103)\n",
      "(137599,)\n"
     ]
    }
   ],
   "source": [
    "print(\"All features\", len(features))\n",
    "features = features_all\n",
    "x_sel = X_train_df.iloc[:, features]\n",
    "x_val_sel = X_train_df.iloc[:, features]\n",
    "x_train, y_train = x_sel, Y_train\n",
    "x_test = X_true_test\n",
    "for i in [x_train, x_test, y_train]:\n",
    "    print(i.shape)"
   ]
  },
  {
   "cell_type": "code",
   "execution_count": 94,
   "metadata": {},
   "outputs": [
    {
     "name": "stdout",
     "output_type": "stream",
     "text": [
      "[Pipeline] ............ (step 1 of 2) Processing scaler, total=   0.5s\n",
      "[Pipeline] ........... (step 2 of 2) Processing dectree, total=   0.8s\n",
      "\t\tCV f1 on the train set:  33.21 %\n"
     ]
    }
   ],
   "source": [
    "dectreePipe = Pipeline([('scaler', StandardScaler()),\n",
    "                        ('dectree',\n",
    "                         DecisionTreeClassifier(random_state=123,\n",
    "                                                class_weight='balanced',\n",
    "                                                criterion='entropy',\n",
    "                                                max_depth = 5))], \n",
    "                         verbose=True)\n",
    "\n",
    "_ = dectreePipe.fit(x_train, y_train)\n",
    "\n",
    "skf = StratifiedKFold(n_splits=5, shuffle=True)\n",
    "skf.get_n_splits(x_train, y_train)\n",
    "\n",
    "cv_train = cross_val_score(dectreeGS,\n",
    "                           x_train,\n",
    "                           y_train,\n",
    "                           cv=skf,\n",
    "                           scoring=\"f1\")\n",
    "\n",
    "print(\"CV f1 on the train set: \", (cv_train.mean() * 100).round(2),\"%\")\n"
   ]
  },
  {
   "cell_type": "markdown",
   "metadata": {},
   "source": [
    "# Pickling"
   ]
  },
  {
   "cell_type": "code",
   "execution_count": 95,
   "metadata": {},
   "outputs": [
    {
     "data": {
      "text/plain": [
       "sklearn.pipeline.Pipeline"
      ]
     },
     "execution_count": 95,
     "metadata": {},
     "output_type": "execute_result"
    }
   ],
   "source": [
    "type(dectreePipe)"
   ]
  },
  {
   "cell_type": "code",
   "execution_count": 96,
   "metadata": {},
   "outputs": [],
   "source": [
    "filename = 'dectreePipe.pickle'\n",
    "pickle.dump(dectreePipe, open(filename, 'wb'))"
   ]
  },
  {
   "cell_type": "code",
   "execution_count": 99,
   "metadata": {},
   "outputs": [
    {
     "data": {
      "text/plain": [
       "(129950, 103)"
      ]
     },
     "execution_count": 99,
     "metadata": {},
     "output_type": "execute_result"
    }
   ],
   "source": [
    "x_test.shape"
   ]
  },
  {
   "cell_type": "code",
   "execution_count": 115,
   "metadata": {
    "scrolled": true
   },
   "outputs": [
    {
     "name": "stdout",
     "output_type": "stream",
     "text": [
      "F1-score on test set 0.6143140575149528\n"
     ]
    }
   ],
   "source": [
    "# load the model from disk\n",
    "loaded_model = pickle.load(open(filename, 'rb'))\n",
    "result = loaded_model.score(X_train, X_train)\n",
    "print(\"F1-score on test set\", result)"
   ]
  },
  {
   "cell_type": "markdown",
   "metadata": {},
   "source": [
    "# Output File Saving"
   ]
  },
  {
   "cell_type": "code",
   "execution_count": 116,
   "metadata": {},
   "outputs": [],
   "source": [
    "save_data = loaded_model.predict_proba(x_val_sel)[:, 1]\n",
    "np.savetxt(\"output.csv\", save_data, delimiter=\"\", fmt='%f', header=\"prediction\")"
   ]
  },
  {
   "cell_type": "code",
   "execution_count": 122,
   "metadata": {},
   "outputs": [
    {
     "data": {
      "image/png": "[encoded data removed]",
      "text/plain": [
       "<Figure size 432x288 with 1 Axes>"
      ]
     },
     "metadata": {
      "needs_background": "light"
     },
     "output_type": "display_data"
    }
   ],
   "source": [
    "fpr = dict()\n",
    "tpr = dict()\n",
    "roc_auc = dict()\n",
    "\n",
    "y_score = loaded_model.predict(X_train)\n",
    "\n",
    "\n",
    "\n",
    "fpr, tpr, _ = roc_curve(Y_train, y_score)\n",
    "roc_auc = auc(fpr, tpr)\n",
    "\n",
    "plt.figure()\n",
    "lw = 2\n",
    "plt.plot(fpr,\n",
    "         tpr,\n",
    "         color='darkorange',\n",
    "         lw=lw,\n",
    "         label='ROC curve (area = %0.2f)' % roc_auc)\n",
    "plt.plot([0, 1], [0, 1], color='navy', lw=lw, linestyle='--')\n",
    "plt.xlim([0.0, 1.0])\n",
    "plt.ylim([0.0, 1.05])\n",
    "plt.xlabel('False Positive Rate')\n",
    "plt.ylabel('True Positive Rate')\n",
    "plt.title('Receiver operating characteristic example')\n",
    "plt.legend(loc=\"lower right\")\n",
    "plt.show()"
   ]
  },
  {
   "cell_type": "code",
   "execution_count": null,
   "metadata": {
    "scrolled": true
   },
   "outputs": [],
   "source": [
    "y_score = loaded_model.predict(X_true_test_df)\n",
    "pd.read_csv(\"test.csv\").shape\n",
    "ids = pd.read_csv(\"test.csv\")[\"accident_id\"]\n",
    "preds = pd.concat([pd.DataFrame(ids, columns=[\"accident_id\"]), pd.DataFrame(y_score, columns=[\"prediction\"], dtype=int)], axis=1)\n",
    "preds.astype(int)\n",
    "preds.to_csv(\"test_preds.csv\", index=False)\n",
    "pd.read_csv(\"accidents.csv\")[[\"accident_id\", \"target\"]].to_csv(\"golden_standard.csv\", index=False)"
   ]
  }
 ],
 "metadata": {
  "kernelspec": {
   "display_name": "Python 3",
   "language": "python",
   "name": "python3"
  },
  "language_info": {
   "codemirror_mode": {
    "name": "ipython",
    "version": 3
   },
   "file_extension": ".py",
   "mimetype": "text/x-python",
   "name": "python",
   "nbconvert_exporter": "python",
   "pygments_lexer": "ipython3",
   "version": "3.7.3"
  },
  "toc": {
   "base_numbering": 1,
   "nav_menu": {},
   "number_sections": true,
   "sideBar": true,
   "skip_h1_title": false,
   "title_cell": "Table of Contents",
   "title_sidebar": "Contents",
   "toc_cell": false,
   "toc_position": {},
   "toc_section_display": true,
   "toc_window_display": false
  }
 },
 "nbformat": 4,
 "nbformat_minor": 2
}
